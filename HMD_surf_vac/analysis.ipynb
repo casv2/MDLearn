{
 "metadata": {
  "language_info": {
   "codemirror_mode": {
    "name": "ipython",
    "version": 3
   },
   "file_extension": ".py",
   "mimetype": "text/x-python",
   "name": "python",
   "nbconvert_exporter": "python",
   "pygments_lexer": "ipython3",
   "version": "3.8.2-final"
  },
  "orig_nbformat": 2,
  "kernelspec": {
   "name": "python3",
   "display_name": "Python 3",
   "language": "python"
  }
 },
 "nbformat": 4,
 "nbformat_minor": 2,
 "cells": [
  {
   "cell_type": "code",
   "execution_count": 1,
   "metadata": {},
   "outputs": [],
   "source": [
    "import sys\n",
    "sys.path.insert(1, '/Users/Cas/.julia/dev/MDLearn/prop_calc')"
   ]
  },
  {
   "cell_type": "code",
   "execution_count": 2,
   "metadata": {},
   "outputs": [],
   "source": [
    "from ase.io import read, write"
   ]
  },
  {
   "cell_type": "code",
   "execution_count": 3,
   "metadata": {},
   "outputs": [],
   "source": [
    "import utilities\n",
    "import vacancy\n",
    "import surface\n",
    "import pyjulip\n",
    "import lattice"
   ]
  },
  {
   "cell_type": "code",
   "execution_count": 4,
   "metadata": {},
   "outputs": [
    {
     "output_type": "execute_result",
     "data": {
      "text/plain": [
       "<module 'lattice' from '/Users/Cas/.julia/dev/MDLearn/prop_calc/lattice.py'>"
      ]
     },
     "metadata": {},
     "execution_count": 4
    }
   ],
   "source": [
    "import matplotlib.pyplot as plt\n",
    "import importlib\n",
    "importlib.reload(lattice)"
   ]
  },
  {
   "cell_type": "code",
   "execution_count": 22,
   "metadata": {},
   "outputs": [],
   "source": [
    "calculator = pyjulip.ACE(\"Ti_NRLTB_FLD_HMD_surf_vac_ev_ph_3_N4_18_DB30.json\")"
   ]
  },
  {
   "cell_type": "code",
   "execution_count": null,
   "metadata": {},
   "outputs": [],
   "source": []
  },
  {
   "cell_type": "code",
   "execution_count": 23,
   "metadata": {
    "tags": [
     "outputPrepend"
    ]
   },
   "outputs": [
    {
     "output_type": "stream",
     "name": "stdout",
     "text": [
      "guin) Im-3m , Hall  -I 4 2 3\n",
      "2\n",
      "Lattice=\"3.3473483751760638 5.168217544120065e-33 1.3814145204786902e-38 -5.168217544120065e-33 3.3473483751760646 2.6151673013930943e-39 -1.3814145204786902e-38 9.922392150469143e-32 3.3473483751760638\" Properties=species:S:1:pos:R:3:forces:R:3 Minim_Constant_Volume=F n_minim_iter=0 energy=-11.935651721487151 stress=\"0.03929283059167236 -7.400443593031062e-18 4.794802279253363e-18 -7.400443593031062e-18 0.03929283059167226 5.6549224096409634e-18 4.794802279253363e-18 5.6549224096409634e-18 0.03929283059167226\" free_energy=-11.935651721487151 config_type=bcc pbc=\"T T T\"\n",
      "Ti       0.00000000       0.00000000       0.00000000       0.00000000      -0.00000000       0.00000000\n",
      "Ti       1.67367419       1.67367419       1.67367419      -0.00000000       0.00000000      -0.00000000\n",
      "trying to relax i 4\n",
      "relax_config failed to determined base_run_root\n",
      "relax_config symmetry before refinement at default tol 1.0e-6\n",
      "ase.spacegroup.symmetrize: prec 1e-06 got symmetry group number 229 , international (Hermann-Mauguin) Im-3m , Hall  -I 4 2 3\n",
      "relax_config symmetry after refinement\n",
      "ase.spacegroup.symmetrize: prec 0.1 got symmetry group number 229 , international (Hermann-Mauguin) Im-3m , Hall  -I 4 2 3\n",
      "relax_config trying to maintain symmetry\n",
      "PreconLBFGS:   0  23:20:34      -11.988788       0.0000       0.0000\n",
      "symmetry at end of relaxation at desired tol\n",
      "ase.spacegroup.symmetrize: prec 0.1 got symmetry group number 229 , international (Hermann-Mauguin) Im-3m , Hall  -I 4 2 3\n",
      "symmetry at end of relaxation at default tol 1e-6\n",
      "ase.spacegroup.symmetrize: prec 1e-06 got symmetry group number 229 , international (Hermann-Mauguin) Im-3m , Hall  -I 4 2 3\n",
      "2\n",
      "Lattice=\"3.367884768510859 5.1999251934083654e-33 1.3898896681989976e-38 -5.199925193408365e-33 3.3678847685108586 2.631211673928678e-39 -1.3898896681989976e-38 -5.262423366292555e-39 3.367884768510859\" Properties=species:S:1:pos:R:3:forces:R:3 Minim_Constant_Volume=F n_minim_iter=0 energy=-11.935651721487151 stress=\"0.060078535160708046 4.689542856453173e-18 2.3149029821231528e-17 4.689542856453173e-18 0.060078535160708185 1.8500672080924143e-18 2.3149029821231528e-17 1.8500672080924143e-18 0.06007853516070828\" free_energy=-11.935651721487151 config_type=bcc pbc=\"T T T\"\n",
      "Ti       0.00000000       0.00000000       0.00000000       0.00000000      -0.00000000       0.00000000\n",
      "Ti       1.68394238       1.68394238       1.68394238      -0.00000000       0.00000000      -0.00000000\n",
      "trying to relax i 5\n",
      "relax_config failed to determined base_run_root\n",
      "relax_config symmetry before refinement at default tol 1.0e-6\n",
      "ase.spacegroup.symmetrize: prec 1e-06 got symmetry group number 229 , international (Hermann-Mauguin) Im-3m , Hall  -I 4 2 3\n",
      "relax_config symmetry after refinement\n",
      "ase.spacegroup.symmetrize: prec 0.1 got symmetry group number 229 , international (Hermann-Mauguin) Im-3m , Hall  -I 4 2 3\n",
      "relax_config trying to maintain symmetry\n",
      "PreconLBFGS:   0  23:20:35      -11.946582       0.0000       0.0000\n",
      "symmetry at end of relaxation at desired tol\n",
      "ase.spacegroup.symmetrize: prec 0.1 got symmetry group number 229 , international (Hermann-Mauguin) Im-3m , Hall  -I 4 2 3\n",
      "symmetry at end of relaxation at default tol 1e-6\n",
      "ase.spacegroup.symmetrize: prec 1e-06 got symmetry group number 229 , international (Hermann-Mauguin) Im-3m , Hall  -I 4 2 3\n",
      "2\n",
      "Lattice=\"3.3881737203618516 5.2312507995764385e-33 1.3982626994914994e-38 -5.2312507995764385e-33 3.3881737203618516 2.6470627290067033e-39 -1.3982626994914997e-38 -2.6470627290067033e-39 3.3881737203618516\" Properties=species:S:1:pos:R:3:forces:R:3 Minim_Constant_Volume=F n_minim_iter=0 energy=-11.935651721487151 stress=\"0.05748599094166678 -3.5643761430320863e-17 -3.4849683195619696e-18 -3.5643761430320863e-17 0.05748599094166664 -5.0860029429740585e-18 -3.4849683195619696e-18 -5.0860029429740585e-18 0.05748599094166673\" free_energy=-11.935651721487151 config_type=bcc pbc=\"T T T\"\n",
      "Ti       0.00000000       0.00000000       0.00000000       0.00000000      -0.00000000       0.00000000\n",
      "Ti       1.69408686       1.69408686       1.69408686      -0.00000000       0.00000000      -0.00000000\n",
      "trying to relax i 6\n",
      "relax_config failed to determined base_run_root\n",
      "relax_config symmetry before refinement at default tol 1.0e-6\n",
      "ase.spacegroup.symmetrize: prec 1e-06 got symmetry group number 229 , international (Hermann-Mauguin) Im-3m , Hall  -I 4 2 3\n",
      "relax_config symmetry after refinement\n",
      "ase.spacegroup.symmetrize: prec 0.1 got symmetry group number 229 , international (Hermann-Mauguin) Im-3m , Hall  -I 4 2 3\n",
      "relax_config trying to maintain symmetry\n",
      "PreconLBFGS:   0  23:20:35      -11.914202       0.0000       0.0000\n",
      "symmetry at end of relaxation at desired tol\n",
      "ase.spacegroup.symmetrize: prec 0.1 got symmetry group number 229 , international (Hermann-Mauguin) Im-3m , Hall  -I 4 2 3\n",
      "symmetry at end of relaxation at default tol 1e-6\n",
      "ase.spacegroup.symmetrize: prec 1e-06 got symmetry group number 229 , international (Hermann-Mauguin) Im-3m , Hall  -I 4 2 3\n",
      "2\n",
      "Lattice=\"3.4082225521769915 5.262205666746686e-33 1.4065366358386873e-38 -5.262205666746687e-33 3.4082225521769915 2.6627261866207696e-39 -1.4065366358386873e-38 -7.988178559862306e-39 3.4082225521769915\" Properties=species:S:1:pos:R:3:forces:R:3 Minim_Constant_Volume=F n_minim_iter=0 energy=-11.935651721487151 stress=\"0.03227393321122269 -2.0565034430828923e-17 -8.236042008941273e-18 -2.0565034430828923e-17 0.03227393321122242 -3.3182276853714666e-17 -8.236042008941273e-18 -3.3182276853714666e-17 0.03227393321122251\" free_energy=-11.935651721487151 config_type=bcc pbc=\"T T T\"\n",
      "Ti       0.00000000       0.00000000       0.00000000       0.00000000      -0.00000000       0.00000000\n",
      "Ti       1.70411128       1.70411128       1.70411128      -0.00000000       0.00000000      -0.00000000\n",
      "trying to relax i 7\n",
      "relax_config failed to determined base_run_root\n",
      "relax_config symmetry before refinement at default tol 1.0e-6\n",
      "ase.spacegroup.symmetrize: prec 1e-06 got symmetry group number 229 , international (Hermann-Mauguin) Im-3m , Hall  -I 4 2 3\n",
      "relax_config symmetry after refinement\n",
      "ase.spacegroup.symmetrize: prec 0.1 got symmetry group number 229 , international (Hermann-Mauguin) Im-3m , Hall  -I 4 2 3\n",
      "relax_config trying to maintain symmetry\n",
      "PreconLBFGS:   0  23:20:35      -11.905901       0.0000       0.0000\n",
      "symmetry at end of relaxation at desired tol\n",
      "ase.spacegroup.symmetrize: prec 0.1 got symmetry group number 229 , international (Hermann-Mauguin) Im-3m , Hall  -I 4 2 3\n",
      "symmetry at end of relaxation at default tol 1e-6\n",
      "ase.spacegroup.symmetrize: prec 1e-06 got symmetry group number 229 , international (Hermann-Mauguin) Im-3m , Hall  -I 4 2 3\n",
      "2\n",
      "Lattice=\"3.4280382448285347 5.292800573201621e-33 1.4147143581711429e-38 -5.29280057320162e-33 3.4280382448285347 2.678207500684486e-39 -1.4147143581711429e-38 1.4877137577596887e-31 3.4280382448285347\" Properties=species:S:1:pos:R:3:forces:R:3 Minim_Constant_Volume=F n_minim_iter=0 energy=-11.935651721487151 stress=\"-0.010772419140770586 -3.3642272387058335e-17 -8.481899675572842e-18 -3.3642272387058335e-17 -0.010772419140770765 -2.173342109716982e-17 -8.481899675572842e-18 -2.173342109716982e-17 -0.010772419140770586\" free_energy=-11.935651721487151 config_type=bcc pbc=\"T T T\"\n",
      "Ti       0.00000000       0.00000000       0.00000000       0.00000000      -0.00000000       0.00000000\n",
      "Ti       1.71401912       1.71401912       1.71401912      -0.00000000       0.00000000      -0.00000000\n",
      "trying to relax i 8\n",
      "relax_config failed to determined base_run_root\n",
      "relax_config symmetry before refinement at default tol 1.0e-6\n",
      "ase.spacegroup.symmetrize: prec 1e-06 got symmetry group number 229 , international (Hermann-Mauguin) Im-3m , Hall  -I 4 2 3\n",
      "relax_config symmetry after refinement\n",
      "ase.spacegroup.symmetrize: prec 0.1 got symmetry group number 229 , international (Hermann-Mauguin) Im-3m , Hall  -I 4 2 3\n",
      "relax_config trying to maintain symmetry\n",
      "PreconLBFGS:   0  23:20:35      -11.931530       0.0000       0.0000\n",
      "symmetry at end of relaxation at desired tol\n",
      "ase.spacegroup.symmetrize: prec 0.1 got symmetry group number 229 , international (Hermann-Mauguin) Im-3m , Hall  -I 4 2 3\n",
      "symmetry at end of relaxation at default tol 1e-6\n",
      "ase.spacegroup.symmetrize: prec 1e-06 got symmetry group number 229 , international (Hermann-Mauguin) Im-3m , Hall  -I 4 2 3\n",
      "2\n",
      "Lattice=\"3.447627460024027 5.323045804441875e-33 1.4227986157036175e-38 -5.3230458044418746e-33 3.4476274600240258 2.6935118757591318e-39 -1.422798615703618e-38 8.648648012316107e-34 3.447627460024027\" Properties=species:S:1:pos:R:3:forces:R:3 Minim_Constant_Volume=F n_minim_iter=0 energy=-11.935651721487151 stress=\"-0.0639781405410411 -9.930186406959927e-17 -3.2052992586345006e-17 -9.930186406959927e-17 -0.06397814054104102 -2.5837145492325096e-17 -3.2052992586345006e-17 -2.5837145492325096e-17 -0.06397814054104109\" free_energy=-11.935651721487151 config_type=bcc pbc=\"T T T\"\n",
      "Ti       0.00000000       0.00000000       0.00000000       0.00000000      -0.00000000       0.00000000\n",
      "Ti       1.72381373       1.72381373       1.72381373      -0.00000000       0.00000000      -0.00000000\n",
      "trying to relax i 9\n",
      "relax_config failed to determined base_run_root\n",
      "relax_config symmetry before refinement at default tol 1.0e-6\n",
      "ase.spacegroup.symmetrize: prec 1e-06 got symmetry group number 229 , international (Hermann-Mauguin) Im-3m , Hall  -I 4 2 3\n",
      "relax_config symmetry after refinement\n",
      "ase.spacegroup.symmetrize: prec 0.1 got symmetry group number 229 , international (Hermann-Mauguin) Im-3m , Hall  -I 4 2 3\n",
      "relax_config trying to maintain symmetry\n",
      "PreconLBFGS:   0  23:20:36      -11.995004       0.0000       0.0000\n",
      "symmetry at end of relaxation at desired tol\n",
      "ase.spacegroup.symmetrize: prec 0.1 got symmetry group number 229 , international (Hermann-Mauguin) Im-3m , Hall  -I 4 2 3\n",
      "symmetry at end of relaxation at default tol 1e-6\n",
      "ase.spacegroup.symmetrize: prec 1e-06 got symmetry group number 229 , international (Hermann-Mauguin) Im-3m , Hall  -I 4 2 3\n",
      "2\n",
      "Lattice=\"3.4669965600329666 5.352951183643631e-33 1.4307920340760166e-38 -5.352951183643631e-33 3.4669965600329666 2.708644282465419e-39 -1.4307920340760166e-38 -2.708644282317156e-39 3.4669965600329666\" Properties=species:S:1:pos:R:3:forces:R:3 Minim_Constant_Volume=F n_minim_iter=0 energy=-11.935651721487151 stress=\"-0.11817527709333603 -1.7541095536538793e-17 1.474330689726533e-17 -1.7541095536538793e-17 -0.11817527709333603 -1.6594162144449258e-17 1.474330689726533e-17 -1.6594162144449258e-17 -0.11817527709333607\" free_energy=-11.935651721487151 config_type=bcc pbc=\"T T T\"\n",
      "Ti       0.00000000       0.00000000       0.00000000       0.00000000      -0.00000000       0.00000000\n",
      "Ti       1.73349828       1.73349828       1.73349828      -0.00000000       0.00000000      -0.00000000\n",
      "trying to relax i 10\n",
      "relax_config failed to determined base_run_root\n",
      "relax_config symmetry before refinement at default tol 1.0e-6\n",
      "ase.spacegroup.symmetrize: prec 1e-06 got symmetry group number 229 , international (Hermann-Mauguin) Im-3m , Hall  -I 4 2 3\n",
      "relax_config symmetry after refinement\n",
      "ase.spacegroup.symmetrize: prec 0.1 got symmetry group number 229 , international (Hermann-Mauguin) Im-3m , Hall  -I 4 2 3\n",
      "relax_config trying to maintain symmetry\n",
      "PreconLBFGS:   0  23:20:36      -12.093770       0.0000       0.0000\n",
      "symmetry at end of relaxation at desired tol\n",
      "ase.spacegroup.symmetrize: prec 0.1 got symmetry group number 229 , international (Hermann-Mauguin) Im-3m , Hall  -I 4 2 3\n",
      "symmetry at end of relaxation at default tol 1e-6\n",
      "ase.spacegroup.symmetrize: prec 1e-06 got symmetry group number 229 , international (Hermann-Mauguin) Im-3m , Hall  -I 4 2 3\n",
      "2\n",
      "Lattice=\"3.4861516258873726 5.382526099759826e-33 1.4386971228645743e-38 -5.382526099759826e-33 3.4861516258873726 2.7236094717029564e-39 -1.4386971228645743e-38 4.957620065495033e-32 3.4861516258873726\" Properties=species:S:1:pos:R:3:forces:R:3 Minim_Constant_Volume=F n_minim_iter=0 energy=-11.935651721487151 stress=\"-0.1641253351840136 -6.318007835410398e-17 7.42844058630917e-18 -6.318007835410398e-17 -0.16412533518401365 5.328193559306158e-18 7.42844058630917e-18 5.328193559306158e-18 -0.16412533518401348\" free_energy=-11.935651721487151 config_type=bcc pbc=\"T T T\"\n",
      "Ti       0.00000000       0.00000000       0.00000000       0.00000000      -0.00000000       0.00000000\n",
      "Ti       1.74307581       1.74307581       1.74307581      -0.00000000       0.00000000      -0.00000000\n",
      "trying to relax i 11\n",
      "relax_config failed to determined base_run_root\n",
      "relax_config symmetry before refinement at default tol 1.0e-6\n",
      "ase.spacegroup.symmetrize: prec 1e-06 got symmetry group number 229 , international (Hermann-Mauguin) Im-3m , Hall  -I 4 2 3\n",
      "relax_config symmetry after refinement\n",
      "ase.spacegroup.symmetrize: prec 0.1 got symmetry group number 229 , international (Hermann-Mauguin) Im-3m , Hall  -I 4 2 3\n",
      "relax_config trying to maintain symmetry\n",
      "PreconLBFGS:   0  23:20:36      -12.219205       0.0000       0.0000\n",
      "symmetry at end of relaxation at desired tol\n",
      "ase.spacegroup.symmetrize: prec 0.1 got symmetry group number 229 , international (Hermann-Mauguin) Im-3m , Hall  -I 4 2 3\n",
      "symmetry at end of relaxation at default tol 1e-6\n",
      "ase.spacegroup.symmetrize: prec 1e-06 got symmetry group number 229 , international (Hermann-Mauguin) Im-3m , Hall  -I 4 2 3\n",
      "2\n",
      "Lattice=\"3.505098474197284 5.411779533482847e-33 1.4465162825214302e-38 -5.411779533482846e-33 3.505098474197285 2.7384119877876268e-39 -1.4465162825214307e-38 4.984563634259437e-32 3.505098474197284\" Properties=species:S:1:pos:R:3:forces:R:3 Minim_Constant_Volume=F n_minim_iter=0 energy=-11.935651721487151 stress=\"-0.19378338545539497 -2.8427611903071664e-17 -6.868999921009312e-18 -2.8427611903071664e-17 -0.19378338545539456 -5.404622565279813e-18 -6.868999921009312e-18 -5.404622565279813e-18 -0.19378338545539506\" free_energy=-11.935651721487151 config_type=bcc pbc=\"T T T\"\n",
      "Ti       0.00000000       0.00000000       0.00000000       0.00000000      -0.00000000       0.00000000\n",
      "Ti       1.75254924       1.75254924       1.75254924      -0.00000000       0.00000000      -0.00000000\n",
      "trying to relax i 12\n",
      "relax_config failed to determined base_run_root\n",
      "relax_config symmetry before refinement at default tol 1.0e-6\n",
      "ase.spacegroup.symmetrize: prec 1e-06 got symmetry group number 229 , international (Hermann-Mauguin) Im-3m , Hall  -I 4 2 3\n",
      "relax_config symmetry after refinement\n",
      "ase.spacegroup.symmetrize: prec 0.1 got symmetry group number 229 , international (Hermann-Mauguin) Im-3m , Hall  -I 4 2 3\n",
      "relax_config trying to maintain symmetry\n",
      "PreconLBFGS:   0  23:20:36      -12.358815       0.0000       0.0000\n",
      "symmetry at end of relaxation at desired tol\n",
      "ase.spacegroup.symmetrize: prec 0.1 got symmetry group number 229 , international (Hermann-Mauguin) Im-3m , Hall  -I 4 2 3\n",
      "symmetry at end of relaxation at default tol 1e-6\n",
      "ase.spacegroup.symmetrize: prec 1e-06 got symmetry group number 229 , international (Hermann-Mauguin) Im-3m , Hall  -I 4 2 3\n",
      "2\n",
      "Lattice=\"3.523842672707137 5.4407200812631466e-33 1.4542518107945776e-38 -5.440720081263148e-33 3.523842672707135 2.7530561806052335e-39 -1.4542518107945773e-38 5.447218006437155e-34 3.523842672707137\" Properties=species:S:1:pos:R:3:forces:R:3 Minim_Constant_Volume=F n_minim_iter=0 energy=-11.935651721487151 stress=\"-0.20663959957290542 -1.0083279775619517e-16 1.454239481058488e-17 -1.0083279775619517e-16 -0.2066395995729061 -2.0866967719661714e-16 1.454239481058488e-17 -2.0866967719661714e-16 -0.20663959957290526\" free_energy=-11.935651721487151 config_type=bcc pbc=\"T T T\"\n",
      "Ti       0.00000000       0.00000000       0.00000000       0.00000000      -0.00000000       0.00000000\n",
      "Ti       1.76192134       1.76192134       1.76192134      -0.00000000       0.00000000      -0.00000000\n",
      "trying to relax i 13\n",
      "relax_config failed to determined base_run_root\n",
      "relax_config symmetry before refinement at default tol 1.0e-6\n",
      "ase.spacegroup.symmetrize: prec 1e-06 got symmetry group number 229 , international (Hermann-Mauguin) Im-3m , Hall  -I 4 2 3\n",
      "relax_config symmetry after refinement\n",
      "ase.spacegroup.symmetrize: prec 0.1 got symmetry group number 229 , international (Hermann-Mauguin) Im-3m , Hall  -I 4 2 3\n",
      "relax_config trying to maintain symmetry\n",
      "PreconLBFGS:   0  23:20:37      -12.497612       0.0000       0.0000\n",
      "symmetry at end of relaxation at desired tol\n",
      "ase.spacegroup.symmetrize: prec 0.1 got symmetry group number 229 , international (Hermann-Mauguin) Im-3m , Hall  -I 4 2 3\n",
      "symmetry at end of relaxation at default tol 1e-6\n",
      "ase.spacegroup.symmetrize: prec 1e-06 got symmetry group number 229 , international (Hermann-Mauguin) Im-3m , Hall  -I 4 2 3\n",
      "2\n",
      "Lattice=\"3.542389554705686 5.469355977557805e-33 1.4619059086746802e-38 -5.4693559775578035e-33 3.542389554705686 2.7675462168694916e-39 -1.4619059086746808e-38 5.47583275204359e-34 3.542389554705686\" Properties=species:S:1:pos:R:3:forces:R:3 Minim_Constant_Volume=F n_minim_iter=0 energy=-11.935651721487151 stress=\"-0.18872401073360096 -3.908806999316653e-17 -3.519952050308683e-18 -3.908806999316653e-17 -0.188724010733601 -1.1100403248554493e-17 -3.519952050308683e-18 -1.1100403248554493e-17 -0.18872401073360084\" free_energy=-11.935651721487151 config_type=bcc pbc=\"T T T\"\n",
      "Ti       0.00000000       0.00000000       0.00000000       0.00000000      -0.00000000       0.00000000\n",
      "Ti       1.77119478       1.77119478       1.77119478      -0.00000000       0.00000000      -0.00000000\n",
      "trying to relax i 14\n",
      "relax_config failed to determined base_run_root\n",
      "relax_config symmetry before refinement at default tol 1.0e-6\n",
      "ase.spacegroup.symmetrize: prec 1e-06 got symmetry group number 229 , international (Hermann-Mauguin) Im-3m , Hall  -I 4 2 3\n",
      "relax_config symmetry after refinement\n",
      "ase.spacegroup.symmetrize: prec 0.1 got symmetry group number 229 , international (Hermann-Mauguin) Im-3m , Hall  -I 4 2 3\n",
      "relax_config trying to maintain symmetry\n",
      "PreconLBFGS:   0  23:20:37      -12.615099       0.0000       0.0000\n",
      "symmetry at end of relaxation at desired tol\n",
      "ase.spacegroup.symmetrize: prec 0.1 got symmetry group number 229 , international (Hermann-Mauguin) Im-3m , Hall  -I 4 2 3\n",
      "symmetry at end of relaxation at default tol 1e-6\n",
      "ase.spacegroup.symmetrize: prec 1e-06 got symmetry group number 229 , international (Hermann-Mauguin) Im-3m , Hall  -I 4 2 3\n",
      "2\n",
      "Lattice=\"3.5607442323904928 5.497695115464925e-33 1.469480685910457e-38 -5.497695115464925e-33 3.5607442323904928 2.7818860905632152e-39 -1.4694806859104573e-38 -2.7818860905632152e-39 3.5607442323904928\" Properties=species:S:1:pos:R:3:forces:R:3 Minim_Constant_Volume=F n_minim_iter=0 energy=-11.935651721487151 stress=\"-0.1455290470910925 -6.717681999145267e-17 -3.504539247139982e-18 -6.717681999145267e-17 -0.14552904709109246 -1.1707456551209806e-17 -3.504539247139982e-18 -1.1707456551209806e-17 -0.14552904709109235\" free_energy=-11.935651721487151 config_type=bcc pbc=\"T T T\"\n",
      "Ti       0.00000000       0.00000000       0.00000000       0.00000000      -0.00000000       0.00000000\n",
      "Ti       1.78037212       1.78037212       1.78037212      -0.00000000       0.00000000      -0.00000000\n",
      "trying to relax i 15\n",
      "relax_config failed to determined base_run_root\n",
      "relax_config symmetry before refinement at default tol 1.0e-6\n",
      "ase.spacegroup.symmetrize: prec 1e-06 got symmetry group number 229 , international (Hermann-Mauguin) Im-3m , Hall  -I 4 2 3\n",
      "relax_config symmetry after refinement\n",
      "ase.spacegroup.symmetrize: prec 0.1 got symmetry group number 229 , international (Hermann-Mauguin) Im-3m , Hall  -I 4 2 3\n",
      "relax_config trying to maintain symmetry\n",
      "PreconLBFGS:   0  23:20:37      -12.694582       0.0000       0.0000\n",
      "symmetry at end of relaxation at desired tol\n",
      "ase.spacegroup.symmetrize: prec 0.1 got symmetry group number 229 , international (Hermann-Mauguin) Im-3m , Hall  -I 4 2 3\n",
      "symmetry at end of relaxation at default tol 1e-6\n",
      "ase.spacegroup.symmetrize: prec 1e-06 got symmetry group number 229 , international (Hermann-Mauguin) Im-3m , Hall  -I 4 2 3\n"
     ]
    }
   ],
   "source": [
    "at_bcc = read(\"../ev_ph/NRLTB_bcc.xyz\")\n",
    "at_hcp = read(\"../ev_ph/NRLTB_hcp.xyz\")\n",
    "\n",
    "hcp_EV = lattice.calc_E_vs_V(at_hcp, calculator, dV=0.02, n_steps=(-15,15))\n",
    "bcc_EV = lattice.calc_E_vs_V(at_bcc, calculator, dV=0.02, n_steps=(-15,15))"
   ]
  },
  {
   "cell_type": "code",
   "execution_count": 24,
   "metadata": {},
   "outputs": [],
   "source": [
    "Vh = [hcp_EV[i][0] for i in range(len(hcp_EV))] \n",
    "Eh = [hcp_EV[i][1] for i in range(len(hcp_EV))] \n",
    "Vb = [bcc_EV[i][0] for i in range(len(bcc_EV))] \n",
    "Eb = [bcc_EV[i][1] for i in range(len(bcc_EV))] "
   ]
  },
  {
   "cell_type": "code",
   "execution_count": 25,
   "metadata": {},
   "outputs": [
    {
     "output_type": "display_data",
     "data": {
      "text/plain": "<Figure size 432x288 with 1 Axes>",
      "image/svg+xml": "<?xml version=\"1.0\" encoding=\"utf-8\" standalone=\"no\"?>\n<!DOCTYPE svg PUBLIC \"-//W3C//DTD SVG 1.1//EN\"\n  \"http://www.w3.org/Graphics/SVG/1.1/DTD/svg11.dtd\">\n<!-- Created with matplotlib (https://matplotlib.org/) -->\n<svg height=\"266.918906pt\" version=\"1.1\" viewBox=\"0 0 411.65625 266.918906\" width=\"411.65625pt\" xmlns=\"http://www.w3.org/2000/svg\" xmlns:xlink=\"http://www.w3.org/1999/xlink\">\n <metadata>\n  <rdf:RDF xmlns:cc=\"http://creativecommons.org/ns#\" xmlns:dc=\"http://purl.org/dc/elements/1.1/\" xmlns:rdf=\"http://www.w3.org/1999/02/22-rdf-syntax-ns#\">\n   <cc:Work>\n    <dc:type rdf:resource=\"http://purl.org/dc/dcmitype/StillImage\"/>\n    <dc:date>2021-02-09T23:20:45.094855</dc:date>\n    <dc:format>image/svg+xml</dc:format>\n    <dc:creator>\n     <cc:Agent>\n      <dc:title>Matplotlib v3.3.2, https://matplotlib.org/</dc:title>\n     </cc:Agent>\n    </dc:creator>\n   </cc:Work>\n  </rdf:RDF>\n </metadata>\n <defs>\n  <style type=\"text/css\">*{stroke-linecap:butt;stroke-linejoin:round;}</style>\n </defs>\n <g id=\"figure_1\">\n  <g id=\"patch_1\">\n   <path d=\"M 0 266.918906 \nL 411.65625 266.918906 \nL 411.65625 0 \nL 0 0 \nz\n\" style=\"fill:none;\"/>\n  </g>\n  <g id=\"axes_1\">\n   <g id=\"patch_2\">\n    <path d=\"M 58.523438 228.439219 \nL 393.323438 228.439219 \nL 393.323438 10.999219 \nL 58.523438 10.999219 \nz\n\" style=\"fill:#ffffff;\"/>\n   </g>\n   <g id=\"PathCollection_1\">\n    <defs>\n     <path d=\"M 0 3 \nC 0.795609 3 1.55874 2.683901 2.12132 2.12132 \nC 2.683901 1.55874 3 0.795609 3 0 \nC 3 -0.795609 2.683901 -1.55874 2.12132 -2.12132 \nC 1.55874 -2.683901 0.795609 -3 0 -3 \nC -0.795609 -3 -1.55874 -2.683901 -2.12132 -2.12132 \nC -2.683901 -1.55874 -3 -0.795609 -3 0 \nC -3 0.795609 -2.683901 1.55874 -2.12132 2.12132 \nC -1.55874 2.683901 -0.795609 3 0 3 \nz\n\" id=\"m395055f4d4\" style=\"stroke:#1f77b4;\"/>\n    </defs>\n    <g clip-path=\"url(#p4f5a8b2ba5)\">\n     <use style=\"fill:#1f77b4;stroke:#1f77b4;\" x=\"66.87384\" xlink:href=\"#m395055f4d4\" y=\"-1\"/>\n     <use style=\"fill:#1f77b4;stroke:#1f77b4;\" x=\"83.168333\" xlink:href=\"#m395055f4d4\" y=\"42.042574\"/>\n     <use style=\"fill:#1f77b4;stroke:#1f77b4;\" x=\"113.475998\" xlink:href=\"#m395055f4d4\" y=\"113.19268\"/>\n     <use style=\"fill:#1f77b4;stroke:#1f77b4;\" x=\"143.783662\" xlink:href=\"#m395055f4d4\" y=\"165.322483\"/>\n     <use style=\"fill:#1f77b4;stroke:#1f77b4;\" x=\"174.091326\" xlink:href=\"#m395055f4d4\" y=\"199.040795\"/>\n     <use style=\"fill:#1f77b4;stroke:#1f77b4;\" x=\"204.398991\" xlink:href=\"#m395055f4d4\" y=\"113.493069\"/>\n     <use style=\"fill:#1f77b4;stroke:#1f77b4;\" x=\"234.706655\" xlink:href=\"#m395055f4d4\" y=\"112.934857\"/>\n     <use style=\"fill:#1f77b4;stroke:#1f77b4;\" x=\"265.014319\" xlink:href=\"#m395055f4d4\" y=\"118.14627\"/>\n     <use style=\"fill:#1f77b4;stroke:#1f77b4;\" x=\"295.321984\" xlink:href=\"#m395055f4d4\" y=\"127.045418\"/>\n     <use style=\"fill:#1f77b4;stroke:#1f77b4;\" x=\"325.629648\" xlink:href=\"#m395055f4d4\" y=\"211.856694\"/>\n     <use style=\"fill:#1f77b4;stroke:#1f77b4;\" x=\"355.937313\" xlink:href=\"#m395055f4d4\" y=\"217.01518\"/>\n     <use style=\"fill:#1f77b4;stroke:#1f77b4;\" x=\"386.244977\" xlink:href=\"#m395055f4d4\" y=\"226.632573\"/>\n     <use style=\"fill:#1f77b4;stroke:#1f77b4;\" x=\"416.552641\" xlink:href=\"#m395055f4d4\" y=\"237.606378\"/>\n     <use style=\"fill:#1f77b4;stroke:#1f77b4;\" x=\"446.860306\" xlink:href=\"#m395055f4d4\" y=\"246.325234\"/>\n     <use style=\"fill:#1f77b4;stroke:#1f77b4;\" x=\"477.16797\" xlink:href=\"#m395055f4d4\" y=\"250.039948\"/>\n     <use style=\"fill:#1f77b4;stroke:#1f77b4;\" x=\"507.475634\" xlink:href=\"#m395055f4d4\" y=\"249.473296\"/>\n     <use style=\"fill:#1f77b4;stroke:#1f77b4;\" x=\"537.783299\" xlink:href=\"#m395055f4d4\" y=\"245.894034\"/>\n     <use style=\"fill:#1f77b4;stroke:#1f77b4;\" x=\"568.090963\" xlink:href=\"#m395055f4d4\" y=\"239.816992\"/>\n     <use style=\"fill:#1f77b4;stroke:#1f77b4;\" x=\"598.398627\" xlink:href=\"#m395055f4d4\" y=\"230.603011\"/>\n     <use style=\"fill:#1f77b4;stroke:#1f77b4;\" x=\"628.706292\" xlink:href=\"#m395055f4d4\" y=\"215.897184\"/>\n     <use style=\"fill:#1f77b4;stroke:#1f77b4;\" x=\"659.013956\" xlink:href=\"#m395055f4d4\" y=\"193.19655\"/>\n     <use style=\"fill:#1f77b4;stroke:#1f77b4;\" x=\"689.32162\" xlink:href=\"#m395055f4d4\" y=\"160.582654\"/>\n    </g>\n   </g>\n   <g id=\"PathCollection_2\">\n    <defs>\n     <path d=\"M 0 3 \nC 0.795609 3 1.55874 2.683901 2.12132 2.12132 \nC 2.683901 1.55874 3 0.795609 3 0 \nC 3 -0.795609 2.683901 -1.55874 2.12132 -2.12132 \nC 1.55874 -2.683901 0.795609 -3 0 -3 \nC -0.795609 -3 -1.55874 -2.683901 -2.12132 -2.12132 \nC -2.683901 -1.55874 -3 -0.795609 -3 0 \nC -3 0.795609 -2.683901 1.55874 -2.12132 2.12132 \nC -1.55874 2.683901 -0.795609 3 0 3 \nz\n\" id=\"m45ee8b7a5d\" style=\"stroke:#ff7f0e;\"/>\n    </defs>\n    <g clip-path=\"url(#p4f5a8b2ba5)\">\n     <use style=\"fill:#ff7f0e;stroke:#ff7f0e;\" x=\"-1\" xlink:href=\"#m45ee8b7a5d\" y=\"180.451902\"/>\n     <use style=\"fill:#ff7f0e;stroke:#ff7f0e;\" x=\"27.351188\" xlink:href=\"#m45ee8b7a5d\" y=\"143.113677\"/>\n     <use style=\"fill:#ff7f0e;stroke:#ff7f0e;\" x=\"56.418472\" xlink:href=\"#m45ee8b7a5d\" y=\"116.720528\"/>\n     <use style=\"fill:#ff7f0e;stroke:#ff7f0e;\" x=\"85.485755\" xlink:href=\"#m45ee8b7a5d\" y=\"102.543972\"/>\n     <use style=\"fill:#ff7f0e;stroke:#ff7f0e;\" x=\"114.553038\" xlink:href=\"#m45ee8b7a5d\" y=\"103.434103\"/>\n     <use style=\"fill:#ff7f0e;stroke:#ff7f0e;\" x=\"143.620322\" xlink:href=\"#m45ee8b7a5d\" y=\"121.110074\"/>\n     <use style=\"fill:#ff7f0e;stroke:#ff7f0e;\" x=\"172.687605\" xlink:href=\"#m45ee8b7a5d\" y=\"143.585138\"/>\n     <use style=\"fill:#ff7f0e;stroke:#ff7f0e;\" x=\"201.754888\" xlink:href=\"#m45ee8b7a5d\" y=\"162.054361\"/>\n     <use style=\"fill:#ff7f0e;stroke:#ff7f0e;\" x=\"230.822172\" xlink:href=\"#m45ee8b7a5d\" y=\"169.769386\"/>\n     <use style=\"fill:#ff7f0e;stroke:#ff7f0e;\" x=\"259.889455\" xlink:href=\"#m45ee8b7a5d\" y=\"164.870329\"/>\n     <use style=\"fill:#ff7f0e;stroke:#ff7f0e;\" x=\"288.956738\" xlink:href=\"#m45ee8b7a5d\" y=\"151.896137\"/>\n     <use style=\"fill:#ff7f0e;stroke:#ff7f0e;\" x=\"318.024022\" xlink:href=\"#m45ee8b7a5d\" y=\"136.600562\"/>\n     <use style=\"fill:#ff7f0e;stroke:#ff7f0e;\" x=\"347.091305\" xlink:href=\"#m45ee8b7a5d\" y=\"124.866033\"/>\n     <use style=\"fill:#ff7f0e;stroke:#ff7f0e;\" x=\"376.158588\" xlink:href=\"#m45ee8b7a5d\" y=\"121.857854\"/>\n     <use style=\"fill:#ff7f0e;stroke:#ff7f0e;\" x=\"405.225872\" xlink:href=\"#m45ee8b7a5d\" y=\"131.145623\"/>\n     <use style=\"fill:#ff7f0e;stroke:#ff7f0e;\" x=\"434.293155\" xlink:href=\"#m45ee8b7a5d\" y=\"154.148809\"/>\n     <use style=\"fill:#ff7f0e;stroke:#ff7f0e;\" x=\"463.360439\" xlink:href=\"#m45ee8b7a5d\" y=\"189.941581\"/>\n     <use style=\"fill:#ff7f0e;stroke:#ff7f0e;\" x=\"492.427722\" xlink:href=\"#m45ee8b7a5d\" y=\"235.399016\"/>\n     <use style=\"fill:#ff7f0e;stroke:#ff7f0e;\" x=\"521.495005\" xlink:href=\"#m45ee8b7a5d\" y=\"285.993753\"/>\n     <use style=\"fill:#ff7f0e;stroke:#ff7f0e;\" x=\"550.562289\" xlink:href=\"#m45ee8b7a5d\" y=\"336.293901\"/>\n     <use style=\"fill:#ff7f0e;stroke:#ff7f0e;\" x=\"579.629572\" xlink:href=\"#m45ee8b7a5d\" y=\"378.871066\"/>\n     <use style=\"fill:#ff7f0e;stroke:#ff7f0e;\" x=\"608.696855\" xlink:href=\"#m45ee8b7a5d\" y=\"407.675787\"/>\n    </g>\n   </g>\n   <g id=\"matplotlib.axis_1\">\n    <g id=\"xtick_1\">\n     <g id=\"line2d_1\">\n      <defs>\n       <path d=\"M 0 0 \nL 0 3.5 \n\" id=\"m0364289e88\" style=\"stroke:#000000;stroke-width:0.8;\"/>\n      </defs>\n      <g>\n       <use style=\"stroke:#000000;stroke-width:0.8;\" x=\"58.523438\" xlink:href=\"#m0364289e88\" y=\"228.439219\"/>\n      </g>\n     </g>\n     <g id=\"text_1\">\n      <!-- 16.0 -->\n      <g transform=\"translate(47.390625 243.037656)scale(0.1 -0.1)\">\n       <defs>\n        <path d=\"M 12.40625 8.296875 \nL 28.515625 8.296875 \nL 28.515625 63.921875 \nL 10.984375 60.40625 \nL 10.984375 69.390625 \nL 28.421875 72.90625 \nL 38.28125 72.90625 \nL 38.28125 8.296875 \nL 54.390625 8.296875 \nL 54.390625 0 \nL 12.40625 0 \nz\n\" id=\"DejaVuSans-49\"/>\n        <path d=\"M 33.015625 40.375 \nQ 26.375 40.375 22.484375 35.828125 \nQ 18.609375 31.296875 18.609375 23.390625 \nQ 18.609375 15.53125 22.484375 10.953125 \nQ 26.375 6.390625 33.015625 6.390625 \nQ 39.65625 6.390625 43.53125 10.953125 \nQ 47.40625 15.53125 47.40625 23.390625 \nQ 47.40625 31.296875 43.53125 35.828125 \nQ 39.65625 40.375 33.015625 40.375 \nz\nM 52.59375 71.296875 \nL 52.59375 62.3125 \nQ 48.875 64.0625 45.09375 64.984375 \nQ 41.3125 65.921875 37.59375 65.921875 \nQ 27.828125 65.921875 22.671875 59.328125 \nQ 17.53125 52.734375 16.796875 39.40625 \nQ 19.671875 43.65625 24.015625 45.921875 \nQ 28.375 48.1875 33.59375 48.1875 \nQ 44.578125 48.1875 50.953125 41.515625 \nQ 57.328125 34.859375 57.328125 23.390625 \nQ 57.328125 12.15625 50.6875 5.359375 \nQ 44.046875 -1.421875 33.015625 -1.421875 \nQ 20.359375 -1.421875 13.671875 8.265625 \nQ 6.984375 17.96875 6.984375 36.375 \nQ 6.984375 53.65625 15.1875 63.9375 \nQ 23.390625 74.21875 37.203125 74.21875 \nQ 40.921875 74.21875 44.703125 73.484375 \nQ 48.484375 72.75 52.59375 71.296875 \nz\n\" id=\"DejaVuSans-54\"/>\n        <path d=\"M 10.6875 12.40625 \nL 21 12.40625 \nL 21 0 \nL 10.6875 0 \nz\n\" id=\"DejaVuSans-46\"/>\n        <path d=\"M 31.78125 66.40625 \nQ 24.171875 66.40625 20.328125 58.90625 \nQ 16.5 51.421875 16.5 36.375 \nQ 16.5 21.390625 20.328125 13.890625 \nQ 24.171875 6.390625 31.78125 6.390625 \nQ 39.453125 6.390625 43.28125 13.890625 \nQ 47.125 21.390625 47.125 36.375 \nQ 47.125 51.421875 43.28125 58.90625 \nQ 39.453125 66.40625 31.78125 66.40625 \nz\nM 31.78125 74.21875 \nQ 44.046875 74.21875 50.515625 64.515625 \nQ 56.984375 54.828125 56.984375 36.375 \nQ 56.984375 17.96875 50.515625 8.265625 \nQ 44.046875 -1.421875 31.78125 -1.421875 \nQ 19.53125 -1.421875 13.0625 8.265625 \nQ 6.59375 17.96875 6.59375 36.375 \nQ 6.59375 54.828125 13.0625 64.515625 \nQ 19.53125 74.21875 31.78125 74.21875 \nz\n\" id=\"DejaVuSans-48\"/>\n       </defs>\n       <use xlink:href=\"#DejaVuSans-49\"/>\n       <use x=\"63.623047\" xlink:href=\"#DejaVuSans-54\"/>\n       <use x=\"127.246094\" xlink:href=\"#DejaVuSans-46\"/>\n       <use x=\"159.033203\" xlink:href=\"#DejaVuSans-48\"/>\n      </g>\n     </g>\n    </g>\n    <g id=\"xtick_2\">\n     <g id=\"line2d_2\">\n      <g>\n       <use style=\"stroke:#000000;stroke-width:0.8;\" x=\"100.373437\" xlink:href=\"#m0364289e88\" y=\"228.439219\"/>\n      </g>\n     </g>\n     <g id=\"text_2\">\n      <!-- 16.5 -->\n      <g transform=\"translate(89.240625 243.037656)scale(0.1 -0.1)\">\n       <defs>\n        <path d=\"M 10.796875 72.90625 \nL 49.515625 72.90625 \nL 49.515625 64.59375 \nL 19.828125 64.59375 \nL 19.828125 46.734375 \nQ 21.96875 47.46875 24.109375 47.828125 \nQ 26.265625 48.1875 28.421875 48.1875 \nQ 40.625 48.1875 47.75 41.5 \nQ 54.890625 34.8125 54.890625 23.390625 \nQ 54.890625 11.625 47.5625 5.09375 \nQ 40.234375 -1.421875 26.90625 -1.421875 \nQ 22.3125 -1.421875 17.546875 -0.640625 \nQ 12.796875 0.140625 7.71875 1.703125 \nL 7.71875 11.625 \nQ 12.109375 9.234375 16.796875 8.0625 \nQ 21.484375 6.890625 26.703125 6.890625 \nQ 35.15625 6.890625 40.078125 11.328125 \nQ 45.015625 15.765625 45.015625 23.390625 \nQ 45.015625 31 40.078125 35.4375 \nQ 35.15625 39.890625 26.703125 39.890625 \nQ 22.75 39.890625 18.8125 39.015625 \nQ 14.890625 38.140625 10.796875 36.28125 \nz\n\" id=\"DejaVuSans-53\"/>\n       </defs>\n       <use xlink:href=\"#DejaVuSans-49\"/>\n       <use x=\"63.623047\" xlink:href=\"#DejaVuSans-54\"/>\n       <use x=\"127.246094\" xlink:href=\"#DejaVuSans-46\"/>\n       <use x=\"159.033203\" xlink:href=\"#DejaVuSans-53\"/>\n      </g>\n     </g>\n    </g>\n    <g id=\"xtick_3\">\n     <g id=\"line2d_3\">\n      <g>\n       <use style=\"stroke:#000000;stroke-width:0.8;\" x=\"142.223438\" xlink:href=\"#m0364289e88\" y=\"228.439219\"/>\n      </g>\n     </g>\n     <g id=\"text_3\">\n      <!-- 17.0 -->\n      <g transform=\"translate(131.090625 243.037656)scale(0.1 -0.1)\">\n       <defs>\n        <path d=\"M 8.203125 72.90625 \nL 55.078125 72.90625 \nL 55.078125 68.703125 \nL 28.609375 0 \nL 18.3125 0 \nL 43.21875 64.59375 \nL 8.203125 64.59375 \nz\n\" id=\"DejaVuSans-55\"/>\n       </defs>\n       <use xlink:href=\"#DejaVuSans-49\"/>\n       <use x=\"63.623047\" xlink:href=\"#DejaVuSans-55\"/>\n       <use x=\"127.246094\" xlink:href=\"#DejaVuSans-46\"/>\n       <use x=\"159.033203\" xlink:href=\"#DejaVuSans-48\"/>\n      </g>\n     </g>\n    </g>\n    <g id=\"xtick_4\">\n     <g id=\"line2d_4\">\n      <g>\n       <use style=\"stroke:#000000;stroke-width:0.8;\" x=\"184.073437\" xlink:href=\"#m0364289e88\" y=\"228.439219\"/>\n      </g>\n     </g>\n     <g id=\"text_4\">\n      <!-- 17.5 -->\n      <g transform=\"translate(172.940625 243.037656)scale(0.1 -0.1)\">\n       <use xlink:href=\"#DejaVuSans-49\"/>\n       <use x=\"63.623047\" xlink:href=\"#DejaVuSans-55\"/>\n       <use x=\"127.246094\" xlink:href=\"#DejaVuSans-46\"/>\n       <use x=\"159.033203\" xlink:href=\"#DejaVuSans-53\"/>\n      </g>\n     </g>\n    </g>\n    <g id=\"xtick_5\">\n     <g id=\"line2d_5\">\n      <g>\n       <use style=\"stroke:#000000;stroke-width:0.8;\" x=\"225.923438\" xlink:href=\"#m0364289e88\" y=\"228.439219\"/>\n      </g>\n     </g>\n     <g id=\"text_5\">\n      <!-- 18.0 -->\n      <g transform=\"translate(214.790625 243.037656)scale(0.1 -0.1)\">\n       <defs>\n        <path d=\"M 31.78125 34.625 \nQ 24.75 34.625 20.71875 30.859375 \nQ 16.703125 27.09375 16.703125 20.515625 \nQ 16.703125 13.921875 20.71875 10.15625 \nQ 24.75 6.390625 31.78125 6.390625 \nQ 38.8125 6.390625 42.859375 10.171875 \nQ 46.921875 13.96875 46.921875 20.515625 \nQ 46.921875 27.09375 42.890625 30.859375 \nQ 38.875 34.625 31.78125 34.625 \nz\nM 21.921875 38.8125 \nQ 15.578125 40.375 12.03125 44.71875 \nQ 8.5 49.078125 8.5 55.328125 \nQ 8.5 64.0625 14.71875 69.140625 \nQ 20.953125 74.21875 31.78125 74.21875 \nQ 42.671875 74.21875 48.875 69.140625 \nQ 55.078125 64.0625 55.078125 55.328125 \nQ 55.078125 49.078125 51.53125 44.71875 \nQ 48 40.375 41.703125 38.8125 \nQ 48.828125 37.15625 52.796875 32.3125 \nQ 56.78125 27.484375 56.78125 20.515625 \nQ 56.78125 9.90625 50.3125 4.234375 \nQ 43.84375 -1.421875 31.78125 -1.421875 \nQ 19.734375 -1.421875 13.25 4.234375 \nQ 6.78125 9.90625 6.78125 20.515625 \nQ 6.78125 27.484375 10.78125 32.3125 \nQ 14.796875 37.15625 21.921875 38.8125 \nz\nM 18.3125 54.390625 \nQ 18.3125 48.734375 21.84375 45.5625 \nQ 25.390625 42.390625 31.78125 42.390625 \nQ 38.140625 42.390625 41.71875 45.5625 \nQ 45.3125 48.734375 45.3125 54.390625 \nQ 45.3125 60.0625 41.71875 63.234375 \nQ 38.140625 66.40625 31.78125 66.40625 \nQ 25.390625 66.40625 21.84375 63.234375 \nQ 18.3125 60.0625 18.3125 54.390625 \nz\n\" id=\"DejaVuSans-56\"/>\n       </defs>\n       <use xlink:href=\"#DejaVuSans-49\"/>\n       <use x=\"63.623047\" xlink:href=\"#DejaVuSans-56\"/>\n       <use x=\"127.246094\" xlink:href=\"#DejaVuSans-46\"/>\n       <use x=\"159.033203\" xlink:href=\"#DejaVuSans-48\"/>\n      </g>\n     </g>\n    </g>\n    <g id=\"xtick_6\">\n     <g id=\"line2d_6\">\n      <g>\n       <use style=\"stroke:#000000;stroke-width:0.8;\" x=\"267.773438\" xlink:href=\"#m0364289e88\" y=\"228.439219\"/>\n      </g>\n     </g>\n     <g id=\"text_6\">\n      <!-- 18.5 -->\n      <g transform=\"translate(256.640625 243.037656)scale(0.1 -0.1)\">\n       <use xlink:href=\"#DejaVuSans-49\"/>\n       <use x=\"63.623047\" xlink:href=\"#DejaVuSans-56\"/>\n       <use x=\"127.246094\" xlink:href=\"#DejaVuSans-46\"/>\n       <use x=\"159.033203\" xlink:href=\"#DejaVuSans-53\"/>\n      </g>\n     </g>\n    </g>\n    <g id=\"xtick_7\">\n     <g id=\"line2d_7\">\n      <g>\n       <use style=\"stroke:#000000;stroke-width:0.8;\" x=\"309.623437\" xlink:href=\"#m0364289e88\" y=\"228.439219\"/>\n      </g>\n     </g>\n     <g id=\"text_7\">\n      <!-- 19.0 -->\n      <g transform=\"translate(298.490625 243.037656)scale(0.1 -0.1)\">\n       <defs>\n        <path d=\"M 10.984375 1.515625 \nL 10.984375 10.5 \nQ 14.703125 8.734375 18.5 7.8125 \nQ 22.3125 6.890625 25.984375 6.890625 \nQ 35.75 6.890625 40.890625 13.453125 \nQ 46.046875 20.015625 46.78125 33.40625 \nQ 43.953125 29.203125 39.59375 26.953125 \nQ 35.25 24.703125 29.984375 24.703125 \nQ 19.046875 24.703125 12.671875 31.3125 \nQ 6.296875 37.9375 6.296875 49.421875 \nQ 6.296875 60.640625 12.9375 67.421875 \nQ 19.578125 74.21875 30.609375 74.21875 \nQ 43.265625 74.21875 49.921875 64.515625 \nQ 56.59375 54.828125 56.59375 36.375 \nQ 56.59375 19.140625 48.40625 8.859375 \nQ 40.234375 -1.421875 26.421875 -1.421875 \nQ 22.703125 -1.421875 18.890625 -0.6875 \nQ 15.09375 0.046875 10.984375 1.515625 \nz\nM 30.609375 32.421875 \nQ 37.25 32.421875 41.125 36.953125 \nQ 45.015625 41.5 45.015625 49.421875 \nQ 45.015625 57.28125 41.125 61.84375 \nQ 37.25 66.40625 30.609375 66.40625 \nQ 23.96875 66.40625 20.09375 61.84375 \nQ 16.21875 57.28125 16.21875 49.421875 \nQ 16.21875 41.5 20.09375 36.953125 \nQ 23.96875 32.421875 30.609375 32.421875 \nz\n\" id=\"DejaVuSans-57\"/>\n       </defs>\n       <use xlink:href=\"#DejaVuSans-49\"/>\n       <use x=\"63.623047\" xlink:href=\"#DejaVuSans-57\"/>\n       <use x=\"127.246094\" xlink:href=\"#DejaVuSans-46\"/>\n       <use x=\"159.033203\" xlink:href=\"#DejaVuSans-48\"/>\n      </g>\n     </g>\n    </g>\n    <g id=\"xtick_8\">\n     <g id=\"line2d_8\">\n      <g>\n       <use style=\"stroke:#000000;stroke-width:0.8;\" x=\"351.473438\" xlink:href=\"#m0364289e88\" y=\"228.439219\"/>\n      </g>\n     </g>\n     <g id=\"text_8\">\n      <!-- 19.5 -->\n      <g transform=\"translate(340.340625 243.037656)scale(0.1 -0.1)\">\n       <use xlink:href=\"#DejaVuSans-49\"/>\n       <use x=\"63.623047\" xlink:href=\"#DejaVuSans-57\"/>\n       <use x=\"127.246094\" xlink:href=\"#DejaVuSans-46\"/>\n       <use x=\"159.033203\" xlink:href=\"#DejaVuSans-53\"/>\n      </g>\n     </g>\n    </g>\n    <g id=\"xtick_9\">\n     <g id=\"line2d_9\">\n      <g>\n       <use style=\"stroke:#000000;stroke-width:0.8;\" x=\"393.323437\" xlink:href=\"#m0364289e88\" y=\"228.439219\"/>\n      </g>\n     </g>\n     <g id=\"text_9\">\n      <!-- 20.0 -->\n      <g transform=\"translate(382.190625 243.037656)scale(0.1 -0.1)\">\n       <defs>\n        <path d=\"M 19.1875 8.296875 \nL 53.609375 8.296875 \nL 53.609375 0 \nL 7.328125 0 \nL 7.328125 8.296875 \nQ 12.9375 14.109375 22.625 23.890625 \nQ 32.328125 33.6875 34.8125 36.53125 \nQ 39.546875 41.84375 41.421875 45.53125 \nQ 43.3125 49.21875 43.3125 52.78125 \nQ 43.3125 58.59375 39.234375 62.25 \nQ 35.15625 65.921875 28.609375 65.921875 \nQ 23.96875 65.921875 18.8125 64.3125 \nQ 13.671875 62.703125 7.8125 59.421875 \nL 7.8125 69.390625 \nQ 13.765625 71.78125 18.9375 73 \nQ 24.125 74.21875 28.421875 74.21875 \nQ 39.75 74.21875 46.484375 68.546875 \nQ 53.21875 62.890625 53.21875 53.421875 \nQ 53.21875 48.921875 51.53125 44.890625 \nQ 49.859375 40.875 45.40625 35.40625 \nQ 44.1875 33.984375 37.640625 27.21875 \nQ 31.109375 20.453125 19.1875 8.296875 \nz\n\" id=\"DejaVuSans-50\"/>\n       </defs>\n       <use xlink:href=\"#DejaVuSans-50\"/>\n       <use x=\"63.623047\" xlink:href=\"#DejaVuSans-48\"/>\n       <use x=\"127.246094\" xlink:href=\"#DejaVuSans-46\"/>\n       <use x=\"159.033203\" xlink:href=\"#DejaVuSans-48\"/>\n      </g>\n     </g>\n    </g>\n    <g id=\"text_10\">\n     <!-- Volume [Å³/atom] -->\n     <g transform=\"translate(181.772656 257.639219)scale(0.1 -0.1)\">\n      <defs>\n       <path d=\"M 28.609375 0 \nL 0.78125 72.90625 \nL 11.078125 72.90625 \nL 34.1875 11.53125 \nL 57.328125 72.90625 \nL 67.578125 72.90625 \nL 39.796875 0 \nz\n\" id=\"DejaVuSans-86\"/>\n       <path d=\"M 30.609375 48.390625 \nQ 23.390625 48.390625 19.1875 42.75 \nQ 14.984375 37.109375 14.984375 27.296875 \nQ 14.984375 17.484375 19.15625 11.84375 \nQ 23.34375 6.203125 30.609375 6.203125 \nQ 37.796875 6.203125 41.984375 11.859375 \nQ 46.1875 17.53125 46.1875 27.296875 \nQ 46.1875 37.015625 41.984375 42.703125 \nQ 37.796875 48.390625 30.609375 48.390625 \nz\nM 30.609375 56 \nQ 42.328125 56 49.015625 48.375 \nQ 55.71875 40.765625 55.71875 27.296875 \nQ 55.71875 13.875 49.015625 6.21875 \nQ 42.328125 -1.421875 30.609375 -1.421875 \nQ 18.84375 -1.421875 12.171875 6.21875 \nQ 5.515625 13.875 5.515625 27.296875 \nQ 5.515625 40.765625 12.171875 48.375 \nQ 18.84375 56 30.609375 56 \nz\n\" id=\"DejaVuSans-111\"/>\n       <path d=\"M 9.421875 75.984375 \nL 18.40625 75.984375 \nL 18.40625 0 \nL 9.421875 0 \nz\n\" id=\"DejaVuSans-108\"/>\n       <path d=\"M 8.5 21.578125 \nL 8.5 54.6875 \nL 17.484375 54.6875 \nL 17.484375 21.921875 \nQ 17.484375 14.15625 20.5 10.265625 \nQ 23.53125 6.390625 29.59375 6.390625 \nQ 36.859375 6.390625 41.078125 11.03125 \nQ 45.3125 15.671875 45.3125 23.6875 \nL 45.3125 54.6875 \nL 54.296875 54.6875 \nL 54.296875 0 \nL 45.3125 0 \nL 45.3125 8.40625 \nQ 42.046875 3.421875 37.71875 1 \nQ 33.40625 -1.421875 27.6875 -1.421875 \nQ 18.265625 -1.421875 13.375 4.4375 \nQ 8.5 10.296875 8.5 21.578125 \nz\nM 31.109375 56 \nz\n\" id=\"DejaVuSans-117\"/>\n       <path d=\"M 52 44.1875 \nQ 55.375 50.25 60.0625 53.125 \nQ 64.75 56 71.09375 56 \nQ 79.640625 56 84.28125 50.015625 \nQ 88.921875 44.046875 88.921875 33.015625 \nL 88.921875 0 \nL 79.890625 0 \nL 79.890625 32.71875 \nQ 79.890625 40.578125 77.09375 44.375 \nQ 74.3125 48.1875 68.609375 48.1875 \nQ 61.625 48.1875 57.5625 43.546875 \nQ 53.515625 38.921875 53.515625 30.90625 \nL 53.515625 0 \nL 44.484375 0 \nL 44.484375 32.71875 \nQ 44.484375 40.625 41.703125 44.40625 \nQ 38.921875 48.1875 33.109375 48.1875 \nQ 26.21875 48.1875 22.15625 43.53125 \nQ 18.109375 38.875 18.109375 30.90625 \nL 18.109375 0 \nL 9.078125 0 \nL 9.078125 54.6875 \nL 18.109375 54.6875 \nL 18.109375 46.1875 \nQ 21.1875 51.21875 25.484375 53.609375 \nQ 29.78125 56 35.6875 56 \nQ 41.65625 56 45.828125 52.96875 \nQ 50 49.953125 52 44.1875 \nz\n\" id=\"DejaVuSans-109\"/>\n       <path d=\"M 56.203125 29.59375 \nL 56.203125 25.203125 \nL 14.890625 25.203125 \nQ 15.484375 15.921875 20.484375 11.0625 \nQ 25.484375 6.203125 34.421875 6.203125 \nQ 39.59375 6.203125 44.453125 7.46875 \nQ 49.3125 8.734375 54.109375 11.28125 \nL 54.109375 2.78125 \nQ 49.265625 0.734375 44.1875 -0.34375 \nQ 39.109375 -1.421875 33.890625 -1.421875 \nQ 20.796875 -1.421875 13.15625 6.1875 \nQ 5.515625 13.8125 5.515625 26.8125 \nQ 5.515625 40.234375 12.765625 48.109375 \nQ 20.015625 56 32.328125 56 \nQ 43.359375 56 49.78125 48.890625 \nQ 56.203125 41.796875 56.203125 29.59375 \nz\nM 47.21875 32.234375 \nQ 47.125 39.59375 43.09375 43.984375 \nQ 39.0625 48.390625 32.421875 48.390625 \nQ 24.90625 48.390625 20.390625 44.140625 \nQ 15.875 39.890625 15.1875 32.171875 \nz\n\" id=\"DejaVuSans-101\"/>\n       <path id=\"DejaVuSans-32\"/>\n       <path d=\"M 8.59375 75.984375 \nL 29.296875 75.984375 \nL 29.296875 69 \nL 17.578125 69 \nL 17.578125 -6.203125 \nL 29.296875 -6.203125 \nL 29.296875 -13.1875 \nL 8.59375 -13.1875 \nz\n\" id=\"DejaVuSans-91\"/>\n       <path d=\"M 41.609375 79.390625 \nQ 41.609375 82.46875 39.421875 84.640625 \nQ 37.25 86.8125 34.1875 86.8125 \nQ 31.0625 86.8125 28.9375 84.6875 \nQ 26.8125 82.5625 26.8125 79.390625 \nQ 26.8125 76.3125 28.953125 74.15625 \nQ 31.109375 72.015625 34.1875 72.015625 \nQ 37.25 72.015625 39.421875 74.15625 \nQ 41.609375 76.3125 41.609375 79.390625 \nz\nM 34.1875 63.1875 \nL 20.90625 26.90625 \nL 47.515625 26.90625 \nz\nM 26.8125 68.21875 \nQ 23.828125 70.21875 22.3125 73.015625 \nQ 20.796875 75.828125 20.796875 79.390625 \nQ 20.796875 85.015625 24.671875 88.921875 \nQ 28.5625 92.828125 34.1875 92.828125 \nQ 39.75 92.828125 43.671875 88.890625 \nQ 47.609375 84.96875 47.609375 79.390625 \nQ 47.609375 75.984375 46.0625 73.09375 \nQ 44.53125 70.21875 41.609375 68.21875 \nL 67.578125 0 \nL 57.328125 0 \nL 50.6875 18.703125 \nL 17.828125 18.703125 \nL 11.1875 0 \nL 0.78125 0 \nz\n\" id=\"DejaVuSans-197\"/>\n       <path d=\"M 25.59375 54.6875 \nQ 30.078125 53.8125 32.546875 51.140625 \nQ 35.015625 48.484375 35.015625 44.484375 \nQ 35.015625 38.421875 30.375 35.15625 \nQ 25.734375 31.890625 17.09375 31.890625 \nQ 14.3125 31.890625 11.25 32.390625 \nQ 8.203125 32.90625 4.78125 33.890625 \nL 4.78125 39.796875 \nQ 7.328125 38.484375 10.234375 37.84375 \nQ 13.140625 37.203125 16.40625 37.203125 \nQ 21.734375 37.203125 24.65625 39.125 \nQ 27.59375 41.0625 27.59375 44.484375 \nQ 27.59375 48.09375 24.875 49.953125 \nQ 22.171875 51.8125 16.890625 51.8125 \nL 12.703125 51.8125 \nL 12.703125 57.078125 \nL 17.28125 57.078125 \nQ 21.875 57.078125 24.234375 58.609375 \nQ 26.609375 60.15625 26.609375 63.09375 \nQ 26.609375 65.921875 24.171875 67.40625 \nQ 21.734375 68.890625 17.09375 68.890625 \nQ 15.140625 68.890625 12.640625 68.453125 \nQ 10.15625 68.015625 6.203125 66.890625 \nL 6.203125 72.515625 \nQ 9.765625 73.34375 12.890625 73.78125 \nQ 16.015625 74.21875 18.703125 74.21875 \nQ 25.734375 74.21875 29.859375 71.328125 \nQ 33.984375 68.453125 33.984375 63.625 \nQ 33.984375 60.25 31.78125 57.90625 \nQ 29.59375 55.5625 25.59375 54.6875 \nz\n\" id=\"DejaVuSans-179\"/>\n       <path d=\"M 25.390625 72.90625 \nL 33.6875 72.90625 \nL 8.296875 -9.28125 \nL 0 -9.28125 \nz\n\" id=\"DejaVuSans-47\"/>\n       <path d=\"M 34.28125 27.484375 \nQ 23.390625 27.484375 19.1875 25 \nQ 14.984375 22.515625 14.984375 16.5 \nQ 14.984375 11.71875 18.140625 8.90625 \nQ 21.296875 6.109375 26.703125 6.109375 \nQ 34.1875 6.109375 38.703125 11.40625 \nQ 43.21875 16.703125 43.21875 25.484375 \nL 43.21875 27.484375 \nz\nM 52.203125 31.203125 \nL 52.203125 0 \nL 43.21875 0 \nL 43.21875 8.296875 \nQ 40.140625 3.328125 35.546875 0.953125 \nQ 30.953125 -1.421875 24.3125 -1.421875 \nQ 15.921875 -1.421875 10.953125 3.296875 \nQ 6 8.015625 6 15.921875 \nQ 6 25.140625 12.171875 29.828125 \nQ 18.359375 34.515625 30.609375 34.515625 \nL 43.21875 34.515625 \nL 43.21875 35.40625 \nQ 43.21875 41.609375 39.140625 45 \nQ 35.0625 48.390625 27.6875 48.390625 \nQ 23 48.390625 18.546875 47.265625 \nQ 14.109375 46.140625 10.015625 43.890625 \nL 10.015625 52.203125 \nQ 14.9375 54.109375 19.578125 55.046875 \nQ 24.21875 56 28.609375 56 \nQ 40.484375 56 46.34375 49.84375 \nQ 52.203125 43.703125 52.203125 31.203125 \nz\n\" id=\"DejaVuSans-97\"/>\n       <path d=\"M 18.3125 70.21875 \nL 18.3125 54.6875 \nL 36.8125 54.6875 \nL 36.8125 47.703125 \nL 18.3125 47.703125 \nL 18.3125 18.015625 \nQ 18.3125 11.328125 20.140625 9.421875 \nQ 21.96875 7.515625 27.59375 7.515625 \nL 36.8125 7.515625 \nL 36.8125 0 \nL 27.59375 0 \nQ 17.1875 0 13.234375 3.875 \nQ 9.28125 7.765625 9.28125 18.015625 \nL 9.28125 47.703125 \nL 2.6875 47.703125 \nL 2.6875 54.6875 \nL 9.28125 54.6875 \nL 9.28125 70.21875 \nz\n\" id=\"DejaVuSans-116\"/>\n       <path d=\"M 30.421875 75.984375 \nL 30.421875 -13.1875 \nL 9.71875 -13.1875 \nL 9.71875 -6.203125 \nL 21.390625 -6.203125 \nL 21.390625 69 \nL 9.71875 69 \nL 9.71875 75.984375 \nz\n\" id=\"DejaVuSans-93\"/>\n      </defs>\n      <use xlink:href=\"#DejaVuSans-86\"/>\n      <use x=\"60.658203\" xlink:href=\"#DejaVuSans-111\"/>\n      <use x=\"121.839844\" xlink:href=\"#DejaVuSans-108\"/>\n      <use x=\"149.623047\" xlink:href=\"#DejaVuSans-117\"/>\n      <use x=\"213.001953\" xlink:href=\"#DejaVuSans-109\"/>\n      <use x=\"310.414062\" xlink:href=\"#DejaVuSans-101\"/>\n      <use x=\"371.9375\" xlink:href=\"#DejaVuSans-32\"/>\n      <use x=\"403.724609\" xlink:href=\"#DejaVuSans-91\"/>\n      <use x=\"442.738281\" xlink:href=\"#DejaVuSans-197\"/>\n      <use x=\"511.146484\" xlink:href=\"#DejaVuSans-179\"/>\n      <use x=\"551.234375\" xlink:href=\"#DejaVuSans-47\"/>\n      <use x=\"584.925781\" xlink:href=\"#DejaVuSans-97\"/>\n      <use x=\"646.205078\" xlink:href=\"#DejaVuSans-116\"/>\n      <use x=\"685.414062\" xlink:href=\"#DejaVuSans-111\"/>\n      <use x=\"746.595703\" xlink:href=\"#DejaVuSans-109\"/>\n      <use x=\"844.007812\" xlink:href=\"#DejaVuSans-93\"/>\n     </g>\n    </g>\n   </g>\n   <g id=\"matplotlib.axis_2\">\n    <g id=\"ytick_1\">\n     <g id=\"line2d_10\">\n      <defs>\n       <path d=\"M 0 0 \nL -3.5 0 \n\" id=\"ma096c2b5f5\" style=\"stroke:#000000;stroke-width:0.8;\"/>\n      </defs>\n      <g>\n       <use style=\"stroke:#000000;stroke-width:0.8;\" x=\"58.523438\" xlink:href=\"#ma096c2b5f5\" y=\"228.439219\"/>\n      </g>\n     </g>\n     <g id=\"text_11\">\n      <!-- −6.10 -->\n      <g transform=\"translate(20.878125 232.238437)scale(0.1 -0.1)\">\n       <defs>\n        <path d=\"M 10.59375 35.5 \nL 73.1875 35.5 \nL 73.1875 27.203125 \nL 10.59375 27.203125 \nz\n\" id=\"DejaVuSans-8722\"/>\n       </defs>\n       <use xlink:href=\"#DejaVuSans-8722\"/>\n       <use x=\"83.789062\" xlink:href=\"#DejaVuSans-54\"/>\n       <use x=\"147.412109\" xlink:href=\"#DejaVuSans-46\"/>\n       <use x=\"179.199219\" xlink:href=\"#DejaVuSans-49\"/>\n       <use x=\"242.822266\" xlink:href=\"#DejaVuSans-48\"/>\n      </g>\n     </g>\n    </g>\n    <g id=\"ytick_2\">\n     <g id=\"line2d_11\">\n      <g>\n       <use style=\"stroke:#000000;stroke-width:0.8;\" x=\"58.523438\" xlink:href=\"#ma096c2b5f5\" y=\"192.199219\"/>\n      </g>\n     </g>\n     <g id=\"text_12\">\n      <!-- −6.05 -->\n      <g transform=\"translate(20.878125 195.998437)scale(0.1 -0.1)\">\n       <use xlink:href=\"#DejaVuSans-8722\"/>\n       <use x=\"83.789062\" xlink:href=\"#DejaVuSans-54\"/>\n       <use x=\"147.412109\" xlink:href=\"#DejaVuSans-46\"/>\n       <use x=\"179.199219\" xlink:href=\"#DejaVuSans-48\"/>\n       <use x=\"242.822266\" xlink:href=\"#DejaVuSans-53\"/>\n      </g>\n     </g>\n    </g>\n    <g id=\"ytick_3\">\n     <g id=\"line2d_12\">\n      <g>\n       <use style=\"stroke:#000000;stroke-width:0.8;\" x=\"58.523438\" xlink:href=\"#ma096c2b5f5\" y=\"155.959219\"/>\n      </g>\n     </g>\n     <g id=\"text_13\">\n      <!-- −6.00 -->\n      <g transform=\"translate(20.878125 159.758437)scale(0.1 -0.1)\">\n       <use xlink:href=\"#DejaVuSans-8722\"/>\n       <use x=\"83.789062\" xlink:href=\"#DejaVuSans-54\"/>\n       <use x=\"147.412109\" xlink:href=\"#DejaVuSans-46\"/>\n       <use x=\"179.199219\" xlink:href=\"#DejaVuSans-48\"/>\n       <use x=\"242.822266\" xlink:href=\"#DejaVuSans-48\"/>\n      </g>\n     </g>\n    </g>\n    <g id=\"ytick_4\">\n     <g id=\"line2d_13\">\n      <g>\n       <use style=\"stroke:#000000;stroke-width:0.8;\" x=\"58.523438\" xlink:href=\"#ma096c2b5f5\" y=\"119.719219\"/>\n      </g>\n     </g>\n     <g id=\"text_14\">\n      <!-- −5.95 -->\n      <g transform=\"translate(20.878125 123.518437)scale(0.1 -0.1)\">\n       <use xlink:href=\"#DejaVuSans-8722\"/>\n       <use x=\"83.789062\" xlink:href=\"#DejaVuSans-53\"/>\n       <use x=\"147.412109\" xlink:href=\"#DejaVuSans-46\"/>\n       <use x=\"179.199219\" xlink:href=\"#DejaVuSans-57\"/>\n       <use x=\"242.822266\" xlink:href=\"#DejaVuSans-53\"/>\n      </g>\n     </g>\n    </g>\n    <g id=\"ytick_5\">\n     <g id=\"line2d_14\">\n      <g>\n       <use style=\"stroke:#000000;stroke-width:0.8;\" x=\"58.523438\" xlink:href=\"#ma096c2b5f5\" y=\"83.479219\"/>\n      </g>\n     </g>\n     <g id=\"text_15\">\n      <!-- −5.90 -->\n      <g transform=\"translate(20.878125 87.278437)scale(0.1 -0.1)\">\n       <use xlink:href=\"#DejaVuSans-8722\"/>\n       <use x=\"83.789062\" xlink:href=\"#DejaVuSans-53\"/>\n       <use x=\"147.412109\" xlink:href=\"#DejaVuSans-46\"/>\n       <use x=\"179.199219\" xlink:href=\"#DejaVuSans-57\"/>\n       <use x=\"242.822266\" xlink:href=\"#DejaVuSans-48\"/>\n      </g>\n     </g>\n    </g>\n    <g id=\"ytick_6\">\n     <g id=\"line2d_15\">\n      <g>\n       <use style=\"stroke:#000000;stroke-width:0.8;\" x=\"58.523438\" xlink:href=\"#ma096c2b5f5\" y=\"47.239219\"/>\n      </g>\n     </g>\n     <g id=\"text_16\">\n      <!-- −5.85 -->\n      <g transform=\"translate(20.878125 51.038437)scale(0.1 -0.1)\">\n       <use xlink:href=\"#DejaVuSans-8722\"/>\n       <use x=\"83.789062\" xlink:href=\"#DejaVuSans-53\"/>\n       <use x=\"147.412109\" xlink:href=\"#DejaVuSans-46\"/>\n       <use x=\"179.199219\" xlink:href=\"#DejaVuSans-56\"/>\n       <use x=\"242.822266\" xlink:href=\"#DejaVuSans-53\"/>\n      </g>\n     </g>\n    </g>\n    <g id=\"ytick_7\">\n     <g id=\"line2d_16\">\n      <g>\n       <use style=\"stroke:#000000;stroke-width:0.8;\" x=\"58.523438\" xlink:href=\"#ma096c2b5f5\" y=\"10.999219\"/>\n      </g>\n     </g>\n     <g id=\"text_17\">\n      <!-- −5.80 -->\n      <g transform=\"translate(20.878125 14.798437)scale(0.1 -0.1)\">\n       <use xlink:href=\"#DejaVuSans-8722\"/>\n       <use x=\"83.789062\" xlink:href=\"#DejaVuSans-53\"/>\n       <use x=\"147.412109\" xlink:href=\"#DejaVuSans-46\"/>\n       <use x=\"179.199219\" xlink:href=\"#DejaVuSans-56\"/>\n       <use x=\"242.822266\" xlink:href=\"#DejaVuSans-48\"/>\n      </g>\n     </g>\n    </g>\n    <g id=\"text_18\">\n     <!-- Energy [eV/atom] -->\n     <g transform=\"translate(14.798438 163.85125)rotate(-90)scale(0.1 -0.1)\">\n      <defs>\n       <path d=\"M 9.8125 72.90625 \nL 55.90625 72.90625 \nL 55.90625 64.59375 \nL 19.671875 64.59375 \nL 19.671875 43.015625 \nL 54.390625 43.015625 \nL 54.390625 34.71875 \nL 19.671875 34.71875 \nL 19.671875 8.296875 \nL 56.78125 8.296875 \nL 56.78125 0 \nL 9.8125 0 \nz\n\" id=\"DejaVuSans-69\"/>\n       <path d=\"M 54.890625 33.015625 \nL 54.890625 0 \nL 45.90625 0 \nL 45.90625 32.71875 \nQ 45.90625 40.484375 42.875 44.328125 \nQ 39.84375 48.1875 33.796875 48.1875 \nQ 26.515625 48.1875 22.3125 43.546875 \nQ 18.109375 38.921875 18.109375 30.90625 \nL 18.109375 0 \nL 9.078125 0 \nL 9.078125 54.6875 \nL 18.109375 54.6875 \nL 18.109375 46.1875 \nQ 21.34375 51.125 25.703125 53.5625 \nQ 30.078125 56 35.796875 56 \nQ 45.21875 56 50.046875 50.171875 \nQ 54.890625 44.34375 54.890625 33.015625 \nz\n\" id=\"DejaVuSans-110\"/>\n       <path d=\"M 41.109375 46.296875 \nQ 39.59375 47.171875 37.8125 47.578125 \nQ 36.03125 48 33.890625 48 \nQ 26.265625 48 22.1875 43.046875 \nQ 18.109375 38.09375 18.109375 28.8125 \nL 18.109375 0 \nL 9.078125 0 \nL 9.078125 54.6875 \nL 18.109375 54.6875 \nL 18.109375 46.1875 \nQ 20.953125 51.171875 25.484375 53.578125 \nQ 30.03125 56 36.53125 56 \nQ 37.453125 56 38.578125 55.875 \nQ 39.703125 55.765625 41.0625 55.515625 \nz\n\" id=\"DejaVuSans-114\"/>\n       <path d=\"M 45.40625 27.984375 \nQ 45.40625 37.75 41.375 43.109375 \nQ 37.359375 48.484375 30.078125 48.484375 \nQ 22.859375 48.484375 18.828125 43.109375 \nQ 14.796875 37.75 14.796875 27.984375 \nQ 14.796875 18.265625 18.828125 12.890625 \nQ 22.859375 7.515625 30.078125 7.515625 \nQ 37.359375 7.515625 41.375 12.890625 \nQ 45.40625 18.265625 45.40625 27.984375 \nz\nM 54.390625 6.78125 \nQ 54.390625 -7.171875 48.1875 -13.984375 \nQ 42 -20.796875 29.203125 -20.796875 \nQ 24.46875 -20.796875 20.265625 -20.09375 \nQ 16.0625 -19.390625 12.109375 -17.921875 \nL 12.109375 -9.1875 \nQ 16.0625 -11.328125 19.921875 -12.34375 \nQ 23.78125 -13.375 27.78125 -13.375 \nQ 36.625 -13.375 41.015625 -8.765625 \nQ 45.40625 -4.15625 45.40625 5.171875 \nL 45.40625 9.625 \nQ 42.625 4.78125 38.28125 2.390625 \nQ 33.9375 0 27.875 0 \nQ 17.828125 0 11.671875 7.65625 \nQ 5.515625 15.328125 5.515625 27.984375 \nQ 5.515625 40.671875 11.671875 48.328125 \nQ 17.828125 56 27.875 56 \nQ 33.9375 56 38.28125 53.609375 \nQ 42.625 51.21875 45.40625 46.390625 \nL 45.40625 54.6875 \nL 54.390625 54.6875 \nz\n\" id=\"DejaVuSans-103\"/>\n       <path d=\"M 32.171875 -5.078125 \nQ 28.375 -14.84375 24.75 -17.8125 \nQ 21.140625 -20.796875 15.09375 -20.796875 \nL 7.90625 -20.796875 \nL 7.90625 -13.28125 \nL 13.1875 -13.28125 \nQ 16.890625 -13.28125 18.9375 -11.515625 \nQ 21 -9.765625 23.484375 -3.21875 \nL 25.09375 0.875 \nL 2.984375 54.6875 \nL 12.5 54.6875 \nL 29.59375 11.921875 \nL 46.6875 54.6875 \nL 56.203125 54.6875 \nz\n\" id=\"DejaVuSans-121\"/>\n      </defs>\n      <use xlink:href=\"#DejaVuSans-69\"/>\n      <use x=\"63.183594\" xlink:href=\"#DejaVuSans-110\"/>\n      <use x=\"126.5625\" xlink:href=\"#DejaVuSans-101\"/>\n      <use x=\"188.085938\" xlink:href=\"#DejaVuSans-114\"/>\n      <use x=\"227.449219\" xlink:href=\"#DejaVuSans-103\"/>\n      <use x=\"290.925781\" xlink:href=\"#DejaVuSans-121\"/>\n      <use x=\"350.105469\" xlink:href=\"#DejaVuSans-32\"/>\n      <use x=\"381.892578\" xlink:href=\"#DejaVuSans-91\"/>\n      <use x=\"420.90625\" xlink:href=\"#DejaVuSans-101\"/>\n      <use x=\"482.429688\" xlink:href=\"#DejaVuSans-86\"/>\n      <use x=\"550.837891\" xlink:href=\"#DejaVuSans-47\"/>\n      <use x=\"584.529297\" xlink:href=\"#DejaVuSans-97\"/>\n      <use x=\"645.808594\" xlink:href=\"#DejaVuSans-116\"/>\n      <use x=\"685.017578\" xlink:href=\"#DejaVuSans-111\"/>\n      <use x=\"746.199219\" xlink:href=\"#DejaVuSans-109\"/>\n      <use x=\"843.611328\" xlink:href=\"#DejaVuSans-93\"/>\n     </g>\n    </g>\n   </g>\n   <g id=\"patch_3\">\n    <path d=\"M 58.523438 228.439219 \nL 58.523438 10.999219 \n\" style=\"fill:none;stroke:#000000;stroke-linecap:square;stroke-linejoin:miter;stroke-width:0.8;\"/>\n   </g>\n   <g id=\"patch_4\">\n    <path d=\"M 393.323438 228.439219 \nL 393.323438 10.999219 \n\" style=\"fill:none;stroke:#000000;stroke-linecap:square;stroke-linejoin:miter;stroke-width:0.8;\"/>\n   </g>\n   <g id=\"patch_5\">\n    <path d=\"M 58.523438 228.439219 \nL 393.323437 228.439219 \n\" style=\"fill:none;stroke:#000000;stroke-linecap:square;stroke-linejoin:miter;stroke-width:0.8;\"/>\n   </g>\n   <g id=\"patch_6\">\n    <path d=\"M 58.523438 10.999219 \nL 393.323437 10.999219 \n\" style=\"fill:none;stroke:#000000;stroke-linecap:square;stroke-linejoin:miter;stroke-width:0.8;\"/>\n   </g>\n   <g id=\"legend_1\">\n    <g id=\"patch_7\">\n     <path d=\"M 336.139063 48.355469 \nL 386.323438 48.355469 \nQ 388.323438 48.355469 388.323438 46.355469 \nL 388.323438 17.999219 \nQ 388.323438 15.999219 386.323438 15.999219 \nL 336.139063 15.999219 \nQ 334.139063 15.999219 334.139063 17.999219 \nL 334.139063 46.355469 \nQ 334.139063 48.355469 336.139063 48.355469 \nz\n\" style=\"fill:#ffffff;opacity:0.8;stroke:#cccccc;stroke-linejoin:miter;\"/>\n    </g>\n    <g id=\"PathCollection_3\">\n     <g>\n      <use style=\"fill:#1f77b4;stroke:#1f77b4;\" x=\"348.139063\" xlink:href=\"#m395055f4d4\" y=\"24.972656\"/>\n     </g>\n    </g>\n    <g id=\"text_19\">\n     <!-- hcp -->\n     <g transform=\"translate(366.139063 27.597656)scale(0.1 -0.1)\">\n      <defs>\n       <path d=\"M 54.890625 33.015625 \nL 54.890625 0 \nL 45.90625 0 \nL 45.90625 32.71875 \nQ 45.90625 40.484375 42.875 44.328125 \nQ 39.84375 48.1875 33.796875 48.1875 \nQ 26.515625 48.1875 22.3125 43.546875 \nQ 18.109375 38.921875 18.109375 30.90625 \nL 18.109375 0 \nL 9.078125 0 \nL 9.078125 75.984375 \nL 18.109375 75.984375 \nL 18.109375 46.1875 \nQ 21.34375 51.125 25.703125 53.5625 \nQ 30.078125 56 35.796875 56 \nQ 45.21875 56 50.046875 50.171875 \nQ 54.890625 44.34375 54.890625 33.015625 \nz\n\" id=\"DejaVuSans-104\"/>\n       <path d=\"M 48.78125 52.59375 \nL 48.78125 44.1875 \nQ 44.96875 46.296875 41.140625 47.34375 \nQ 37.3125 48.390625 33.40625 48.390625 \nQ 24.65625 48.390625 19.8125 42.84375 \nQ 14.984375 37.3125 14.984375 27.296875 \nQ 14.984375 17.28125 19.8125 11.734375 \nQ 24.65625 6.203125 33.40625 6.203125 \nQ 37.3125 6.203125 41.140625 7.25 \nQ 44.96875 8.296875 48.78125 10.40625 \nL 48.78125 2.09375 \nQ 45.015625 0.34375 40.984375 -0.53125 \nQ 36.96875 -1.421875 32.421875 -1.421875 \nQ 20.0625 -1.421875 12.78125 6.34375 \nQ 5.515625 14.109375 5.515625 27.296875 \nQ 5.515625 40.671875 12.859375 48.328125 \nQ 20.21875 56 33.015625 56 \nQ 37.15625 56 41.109375 55.140625 \nQ 45.0625 54.296875 48.78125 52.59375 \nz\n\" id=\"DejaVuSans-99\"/>\n       <path d=\"M 18.109375 8.203125 \nL 18.109375 -20.796875 \nL 9.078125 -20.796875 \nL 9.078125 54.6875 \nL 18.109375 54.6875 \nL 18.109375 46.390625 \nQ 20.953125 51.265625 25.265625 53.625 \nQ 29.59375 56 35.59375 56 \nQ 45.5625 56 51.78125 48.09375 \nQ 58.015625 40.1875 58.015625 27.296875 \nQ 58.015625 14.40625 51.78125 6.484375 \nQ 45.5625 -1.421875 35.59375 -1.421875 \nQ 29.59375 -1.421875 25.265625 0.953125 \nQ 20.953125 3.328125 18.109375 8.203125 \nz\nM 48.6875 27.296875 \nQ 48.6875 37.203125 44.609375 42.84375 \nQ 40.53125 48.484375 33.40625 48.484375 \nQ 26.265625 48.484375 22.1875 42.84375 \nQ 18.109375 37.203125 18.109375 27.296875 \nQ 18.109375 17.390625 22.1875 11.75 \nQ 26.265625 6.109375 33.40625 6.109375 \nQ 40.53125 6.109375 44.609375 11.75 \nQ 48.6875 17.390625 48.6875 27.296875 \nz\n\" id=\"DejaVuSans-112\"/>\n      </defs>\n      <use xlink:href=\"#DejaVuSans-104\"/>\n      <use x=\"63.378906\" xlink:href=\"#DejaVuSans-99\"/>\n      <use x=\"118.359375\" xlink:href=\"#DejaVuSans-112\"/>\n     </g>\n    </g>\n    <g id=\"PathCollection_4\">\n     <g>\n      <use style=\"fill:#ff7f0e;stroke:#ff7f0e;\" x=\"348.139063\" xlink:href=\"#m45ee8b7a5d\" y=\"39.650781\"/>\n     </g>\n    </g>\n    <g id=\"text_20\">\n     <!-- bcc -->\n     <g transform=\"translate(366.139063 42.275781)scale(0.1 -0.1)\">\n      <defs>\n       <path d=\"M 48.6875 27.296875 \nQ 48.6875 37.203125 44.609375 42.84375 \nQ 40.53125 48.484375 33.40625 48.484375 \nQ 26.265625 48.484375 22.1875 42.84375 \nQ 18.109375 37.203125 18.109375 27.296875 \nQ 18.109375 17.390625 22.1875 11.75 \nQ 26.265625 6.109375 33.40625 6.109375 \nQ 40.53125 6.109375 44.609375 11.75 \nQ 48.6875 17.390625 48.6875 27.296875 \nz\nM 18.109375 46.390625 \nQ 20.953125 51.265625 25.265625 53.625 \nQ 29.59375 56 35.59375 56 \nQ 45.5625 56 51.78125 48.09375 \nQ 58.015625 40.1875 58.015625 27.296875 \nQ 58.015625 14.40625 51.78125 6.484375 \nQ 45.5625 -1.421875 35.59375 -1.421875 \nQ 29.59375 -1.421875 25.265625 0.953125 \nQ 20.953125 3.328125 18.109375 8.203125 \nL 18.109375 0 \nL 9.078125 0 \nL 9.078125 75.984375 \nL 18.109375 75.984375 \nz\n\" id=\"DejaVuSans-98\"/>\n      </defs>\n      <use xlink:href=\"#DejaVuSans-98\"/>\n      <use x=\"63.476562\" xlink:href=\"#DejaVuSans-99\"/>\n      <use x=\"118.457031\" xlink:href=\"#DejaVuSans-99\"/>\n     </g>\n    </g>\n   </g>\n  </g>\n </g>\n <defs>\n  <clipPath id=\"p4f5a8b2ba5\">\n   <rect height=\"217.44\" width=\"334.8\" x=\"58.523438\" y=\"10.999219\"/>\n  </clipPath>\n </defs>\n</svg>\n",
      "image/png": "[encoded data removed]"
     },
     "metadata": {
      "needs_background": "light"
     }
    }
   ],
   "source": [
    "from ase.io import read, write\n",
    "import matplotlib.pyplot as plt\n",
    "al = read(\"../ev_ph/FLD16_hcp_bcc_sm2-6+3p.xyz\", \":\")\n",
    "import numpy as np\n",
    "\n",
    "EVb = [ (at.get_volume()/len(at), at.info[\"energy\"]/len(at)) for at in al if at.info[\"config_type\"] == \"FLD_bcc\"]\n",
    "EVh = [ (at.get_volume()/len(at), at.info[\"energy\"]/len(at)) for at in al if at.info[\"config_type\"] == \"FLD_hcp\"]\n",
    "\n",
    "#plt.scatter(*zip(*EVb))\n",
    "#plt.scatter(*zip(*EVh))\n",
    "\n",
    "# plt.scatter(V_Tb, E_Tb)\n",
    "# plt.scatter(V_Th, E_Th)\n",
    "#fig, axs = plt.subplots(2, 1, gridspec_kw={'height_ratios': [3, 1]})\n",
    "#plt.legend()\n",
    "plt.scatter(Vh,Eh, label=\"hcp\")\n",
    "plt.scatter(Vb,Eb, label=\"bcc\")\n",
    "plt.xlim(16, 20)\n",
    "plt.ylim(-6.1, -5.8)\n",
    "plt.ylabel(\"Energy [eV/atom]\")\n",
    "plt.xlabel(\"Volume [Å³/atom]\")\n",
    "plt.legend()\n",
    "plt.savefig(\"EV.pdf\")\n",
    "#axs[1].hist(V_Tb)\n",
    "# plt.xlim(16, 20)\n",
    "# plt.ylim(-6.1, -5.8)"
   ]
  },
  {
   "cell_type": "code",
   "execution_count": 26,
   "metadata": {},
   "outputs": [
    {
     "output_type": "stream",
     "name": "stdout",
     "text": [
      "relax_config failed to determined base_run_root\n",
      "relax_config symmetry before refinement at default tol 1.0e-6\n",
      "ase.spacegroup.symmetrize: prec 1e-06 got symmetry group number 187 , international (Hermann-Mauguin) P-6m2 , Hall  P -6 2\n",
      "PreconLBFGS:   0  23:20:45     -314.399639       0.9482\n",
      "PreconLBFGS:   1  23:20:45     -314.881292       0.4100\n",
      "PreconLBFGS:   2  23:20:45     -314.942236       0.4343\n",
      "PreconLBFGS:   3  23:20:46     -315.209896       0.9673\n",
      "PreconLBFGS:   4  23:20:46     -315.516316       0.7838\n",
      "PreconLBFGS:   5  23:20:46     -315.768975       0.5323\n",
      "PreconLBFGS:   6  23:20:46     -315.901454       0.9243\n",
      "PreconLBFGS:   7  23:20:46     -316.266403       0.3732\n",
      "PreconLBFGS:   8  23:20:46     -316.402736       0.3108\n",
      "PreconLBFGS:   9  23:20:47     -316.439567       0.2552\n",
      "PreconLBFGS:  10  23:20:47     -316.512107       0.2651\n",
      "PreconLBFGS:  11  23:20:47     -316.531551       0.2287\n",
      "PreconLBFGS:  12  23:20:47     -316.577142       0.2714\n",
      "PreconLBFGS:  13  23:20:47     -316.599806       0.2058\n",
      "PreconLBFGS:  14  23:20:47     -316.617296       0.1823\n",
      "PreconLBFGS:  15  23:20:47     -316.653564       0.1856\n",
      "PreconLBFGS:  16  23:20:47     -316.676051       0.1530\n",
      "PreconLBFGS:  17  23:20:48     -316.696235       0.1569\n",
      "PreconLBFGS:  18  23:20:48     -316.714134       0.1847\n",
      "PreconLBFGS:  19  23:20:48     -316.788144       0.2873\n",
      "PreconLBFGS:  20  23:20:48     -316.827995       0.2821\n",
      "PreconLBFGS:  21  23:20:48     -316.864777       0.2434\n",
      "PreconLBFGS:  22  23:20:48     -316.889804       0.2525\n",
      "PreconLBFGS:  23  23:20:48     -316.941361       0.4708\n",
      "PreconLBFGS:  24  23:20:48     -316.973498       0.4909\n",
      "PreconLBFGS:  25  23:20:48     -317.020282       0.2517\n",
      "PreconLBFGS:  26  23:20:49     -317.060222       0.2078\n",
      "PreconLBFGS:  27  23:20:49     -317.081378       0.1740\n",
      "PreconLBFGS:  28  23:20:49     -317.087163       0.1208\n",
      "PreconLBFGS:  29  23:20:49     -317.094240       0.0890\n",
      "PreconLBFGS:  30  23:20:49     -317.098896       0.0543\n",
      "PreconLBFGS:  31  23:20:49     -317.099446       0.0483\n",
      "PreconLBFGS:  32  23:20:49     -317.100498       0.0504\n",
      "PreconLBFGS:  33  23:20:49     -317.101094       0.0490\n",
      "PreconLBFGS:  34  23:20:50     -317.101889       0.0221\n",
      "PreconLBFGS:  35  23:20:50     -317.102065       0.0094\n",
      "symmetry at end of relaxation at default tol 1e-6\n",
      "ase.spacegroup.symmetrize: prec 1e-06 got symmetry group number 6 , international (Hermann-Mauguin) Pm , Hall  P -2y\n",
      "got vacancy ind_0_Z_22 cell energy -317.1020653045632 n_atoms 53\n",
      "got bulk energy -314.8539029325633  (scaled to (N-1)/N if single component)\n",
      "ERROR [%] -204.54754664500612\n",
      "-2.2481623719999106\n"
     ]
    }
   ],
   "source": [
    "from ase.io import read, write\n",
    "at = read(\"../prop_calc/NRLTB_hcp3.xyz\")\n",
    "at.set_calculator(calculator)\n",
    "properties = vacancy.do_one_vacancy(at, calculator)\n",
    "print(\"ERROR [%]\", (properties[4]/2.1503731499636274)*100 - 100)\n",
    "print(properties[4])\n",
    "#NRLTB 2.1503731499636274"
   ]
  },
  {
   "cell_type": "code",
   "execution_count": 27,
   "metadata": {},
   "outputs": [
    {
     "output_type": "stream",
     "name": "stdout",
     "text": [
      "got relaxed bulk cell  Cell([[8.870728496683665, -2.8425469926068123e-15, 1.1324443957325822e-38], [-4.43536424834183, 7.682276228202598, 7.663162776850163e-25], [5.474060799563254e-39, -1.4310661229599006e-24, 14.346354863571726]])\n",
      "got rescaled surf cell  Cell([[8.870728496683665, -2.8425469926068123e-15, 1.1324443957325822e-38], [-4.43536424834183, 7.682276228202598, 7.663162776850163e-25], [5.474060799563254e-39, -1.4310661229599006e-24, 28.692709727143452]])\n",
      "relax_config failed to determined base_run_root\n",
      "relax_config symmetry before refinement at default tol 1.0e-6\n",
      "ase.spacegroup.symmetrize: prec 1e-06 got symmetry group number 164 , international (Hermann-Mauguin) P-3m1 , Hall  -P 3 2\"\n",
      "PreconLBFGS:   0  23:21:17     -306.357622       0.2519\n",
      "PreconLBFGS:   1  23:21:17     -306.500508       0.2980\n",
      "PreconLBFGS:   2  23:21:17     -306.574260       0.2691\n",
      "PreconLBFGS:   3  23:21:17     -307.297779       0.1535\n",
      "PreconLBFGS:   4  23:21:17     -307.337788       0.1318\n",
      "PreconLBFGS:   5  23:21:18     -307.795710       0.6310\n"
     ]
    },
    {
     "output_type": "error",
     "ename": "RuntimeError",
     "evalue": "Wolff lineSearch failed!",
     "traceback": [
      "\u001b[0;31m---------------------------------------------------------------------------\u001b[0m",
      "\u001b[0;31mRuntimeError\u001b[0m                              Traceback (most recent call last)",
      "\u001b[0;32m<ipython-input-27-996da7d6d7a4>\u001b[0m in \u001b[0;36m<module>\u001b[0;34m\u001b[0m\n\u001b[1;32m      3\u001b[0m \u001b[0mbulk\u001b[0m\u001b[0;34m.\u001b[0m\u001b[0mset_calculator\u001b[0m\u001b[0;34m(\u001b[0m\u001b[0mcalculator\u001b[0m\u001b[0;34m)\u001b[0m\u001b[0;34m\u001b[0m\u001b[0;34m\u001b[0m\u001b[0m\n\u001b[1;32m      4\u001b[0m \u001b[0msurf\u001b[0m\u001b[0;34m.\u001b[0m\u001b[0mset_calculator\u001b[0m\u001b[0;34m(\u001b[0m\u001b[0mcalculator\u001b[0m\u001b[0;34m)\u001b[0m\u001b[0;34m\u001b[0m\u001b[0;34m\u001b[0m\u001b[0m\n\u001b[0;32m----> 5\u001b[0;31m \u001b[0mproperties\u001b[0m \u001b[0;34m=\u001b[0m \u001b[0msurface\u001b[0m\u001b[0;34m.\u001b[0m\u001b[0mdo_symmetric_surface\u001b[0m\u001b[0;34m(\u001b[0m\u001b[0mbulk\u001b[0m\u001b[0;34m,\u001b[0m \u001b[0msurf\u001b[0m\u001b[0;34m,\u001b[0m \u001b[0mcalculator\u001b[0m\u001b[0;34m)\u001b[0m\u001b[0;34m\u001b[0m\u001b[0;34m\u001b[0m\u001b[0m\n\u001b[0m\u001b[1;32m      6\u001b[0m \u001b[0mprint\u001b[0m\u001b[0;34m(\u001b[0m\u001b[0;34m\"ERROR [%]\"\u001b[0m\u001b[0;34m,\u001b[0m \u001b[0;34m(\u001b[0m\u001b[0mproperties\u001b[0m\u001b[0;34m[\u001b[0m\u001b[0;34m\"Ef\"\u001b[0m\u001b[0;34m]\u001b[0m\u001b[0;34m/\u001b[0m\u001b[0;36m0.13312275617023367\u001b[0m\u001b[0;34m)\u001b[0m\u001b[0;34m*\u001b[0m\u001b[0;36m100\u001b[0m \u001b[0;34m-\u001b[0m \u001b[0;36m100\u001b[0m\u001b[0;34m)\u001b[0m\u001b[0;34m\u001b[0m\u001b[0;34m\u001b[0m\u001b[0m\n\u001b[1;32m      7\u001b[0m \u001b[0mprint\u001b[0m\u001b[0;34m(\u001b[0m\u001b[0mproperties\u001b[0m\u001b[0;34m[\u001b[0m\u001b[0;34m\"Ef\"\u001b[0m\u001b[0;34m]\u001b[0m\u001b[0;34m)\u001b[0m\u001b[0;34m\u001b[0m\u001b[0;34m\u001b[0m\u001b[0m\n",
      "\u001b[0;32m~/.julia/dev/MDLearn/prop_calc/surface.py\u001b[0m in \u001b[0;36mdo_symmetric_surface\u001b[0;34m(bulk, surf, calculator)\u001b[0m\n\u001b[1;32m     18\u001b[0m     \u001b[0;31m# relax surface system\u001b[0m\u001b[0;34m\u001b[0m\u001b[0;34m\u001b[0m\u001b[0;34m\u001b[0m\u001b[0m\n\u001b[1;32m     19\u001b[0m     \u001b[0mtol\u001b[0m \u001b[0;34m=\u001b[0m \u001b[0;36m1.0e-2\u001b[0m\u001b[0;34m\u001b[0m\u001b[0;34m\u001b[0m\u001b[0m\n\u001b[0;32m---> 20\u001b[0;31m     \u001b[0msurf\u001b[0m \u001b[0;34m=\u001b[0m \u001b[0mrelax_config\u001b[0m\u001b[0;34m(\u001b[0m\u001b[0msurf\u001b[0m\u001b[0;34m,\u001b[0m \u001b[0mcalculator\u001b[0m\u001b[0;34m,\u001b[0m \u001b[0mrelax_pos\u001b[0m\u001b[0;34m=\u001b[0m\u001b[0;32mTrue\u001b[0m\u001b[0;34m,\u001b[0m \u001b[0mrelax_cell\u001b[0m\u001b[0;34m=\u001b[0m\u001b[0;32mFalse\u001b[0m\u001b[0;34m,\u001b[0m \u001b[0mtol\u001b[0m\u001b[0;34m=\u001b[0m\u001b[0mtol\u001b[0m\u001b[0;34m,\u001b[0m \u001b[0mtraj_file\u001b[0m\u001b[0;34m=\u001b[0m\u001b[0;32mNone\u001b[0m\u001b[0;34m,\u001b[0m \u001b[0mconfig_label\u001b[0m\u001b[0;34m=\u001b[0m\u001b[0;34m\"surface\"\u001b[0m\u001b[0;34m,\u001b[0m \u001b[0mfrom_base_model\u001b[0m\u001b[0;34m=\u001b[0m\u001b[0;32mTrue\u001b[0m\u001b[0;34m,\u001b[0m \u001b[0msave_config\u001b[0m\u001b[0;34m=\u001b[0m\u001b[0;32mTrue\u001b[0m\u001b[0;34m)\u001b[0m\u001b[0;34m\u001b[0m\u001b[0;34m\u001b[0m\u001b[0m\n\u001b[0m\u001b[1;32m     21\u001b[0m \u001b[0;34m\u001b[0m\u001b[0m\n\u001b[1;32m     22\u001b[0m     \u001b[0;31m#ase.io.write(os.path.join(\"..\",\"relaxed.xyz\"),  surf, format='extxyz')\u001b[0m\u001b[0;34m\u001b[0m\u001b[0;34m\u001b[0m\u001b[0;34m\u001b[0m\u001b[0m\n",
      "\u001b[0;32m~/.julia/dev/MDLearn/prop_calc/utilities.py\u001b[0m in \u001b[0;36mrelax_config\u001b[0;34m(atoms, calculator, relax_pos, relax_cell, tol, method, max_steps, traj_file, constant_volume, refine_symmetry_tol, keep_symmetry, strain_mask, config_label, from_base_model, save_config, fix_cell_dependence, applied_P, **kwargs)\u001b[0m\n\u001b[1;32m    205\u001b[0m \u001b[0;34m\u001b[0m\u001b[0m\n\u001b[1;32m    206\u001b[0m     \u001b[0;32mif\u001b[0m \u001b[0mmethod\u001b[0m \u001b[0;34m!=\u001b[0m \u001b[0;34m'sd2'\u001b[0m\u001b[0;34m:\u001b[0m\u001b[0;34m\u001b[0m\u001b[0;34m\u001b[0m\u001b[0m\n\u001b[0;32m--> 207\u001b[0;31m         \u001b[0mopt\u001b[0m\u001b[0;34m.\u001b[0m\u001b[0mrun\u001b[0m\u001b[0;34m(\u001b[0m\u001b[0mtol\u001b[0m\u001b[0;34m,\u001b[0m \u001b[0mmax_steps\u001b[0m\u001b[0;34m)\u001b[0m\u001b[0;34m\u001b[0m\u001b[0;34m\u001b[0m\u001b[0m\n\u001b[0m\u001b[1;32m    208\u001b[0m \u001b[0;34m\u001b[0m\u001b[0m\n\u001b[1;32m    209\u001b[0m     \u001b[0;32mif\u001b[0m \u001b[0mrefine_symmetry_tol\u001b[0m \u001b[0;32mis\u001b[0m \u001b[0;32mnot\u001b[0m \u001b[0;32mNone\u001b[0m\u001b[0;34m:\u001b[0m\u001b[0;34m\u001b[0m\u001b[0;34m\u001b[0m\u001b[0m\n",
      "\u001b[0;32m~/miniconda3/lib/python3.8/site-packages/ase/optimize/precon/lbfgs.py\u001b[0m in \u001b[0;36mrun\u001b[0;34m(self, fmax, steps, smax)\u001b[0m\n\u001b[1;32m    373\u001b[0m             \u001b[0msmax\u001b[0m \u001b[0;34m=\u001b[0m \u001b[0mfmax\u001b[0m\u001b[0;34m\u001b[0m\u001b[0;34m\u001b[0m\u001b[0m\n\u001b[1;32m    374\u001b[0m         \u001b[0mself\u001b[0m\u001b[0;34m.\u001b[0m\u001b[0msmax\u001b[0m \u001b[0;34m=\u001b[0m \u001b[0msmax\u001b[0m\u001b[0;34m\u001b[0m\u001b[0;34m\u001b[0m\u001b[0m\n\u001b[0;32m--> 375\u001b[0;31m         \u001b[0;32mreturn\u001b[0m \u001b[0mOptimizer\u001b[0m\u001b[0;34m.\u001b[0m\u001b[0mrun\u001b[0m\u001b[0;34m(\u001b[0m\u001b[0mself\u001b[0m\u001b[0;34m,\u001b[0m \u001b[0mfmax\u001b[0m\u001b[0;34m,\u001b[0m \u001b[0msteps\u001b[0m\u001b[0;34m)\u001b[0m\u001b[0;34m\u001b[0m\u001b[0;34m\u001b[0m\u001b[0m\n\u001b[0m\u001b[1;32m    376\u001b[0m \u001b[0;34m\u001b[0m\u001b[0m\n\u001b[1;32m    377\u001b[0m     \u001b[0;32mdef\u001b[0m \u001b[0mlog\u001b[0m\u001b[0;34m(\u001b[0m\u001b[0mself\u001b[0m\u001b[0;34m,\u001b[0m \u001b[0mforces\u001b[0m\u001b[0;34m=\u001b[0m\u001b[0;32mNone\u001b[0m\u001b[0;34m)\u001b[0m\u001b[0;34m:\u001b[0m\u001b[0;34m\u001b[0m\u001b[0;34m\u001b[0m\u001b[0m\n",
      "\u001b[0;32m~/miniconda3/lib/python3.8/site-packages/ase/optimize/optimize.py\u001b[0m in \u001b[0;36mrun\u001b[0;34m(self, fmax, steps)\u001b[0m\n\u001b[1;32m    273\u001b[0m         \u001b[0;32mif\u001b[0m \u001b[0msteps\u001b[0m\u001b[0;34m:\u001b[0m\u001b[0;34m\u001b[0m\u001b[0;34m\u001b[0m\u001b[0m\n\u001b[1;32m    274\u001b[0m             \u001b[0mself\u001b[0m\u001b[0;34m.\u001b[0m\u001b[0mmax_steps\u001b[0m \u001b[0;34m=\u001b[0m \u001b[0msteps\u001b[0m\u001b[0;34m\u001b[0m\u001b[0;34m\u001b[0m\u001b[0m\n\u001b[0;32m--> 275\u001b[0;31m         \u001b[0;32mreturn\u001b[0m \u001b[0mDynamics\u001b[0m\u001b[0;34m.\u001b[0m\u001b[0mrun\u001b[0m\u001b[0;34m(\u001b[0m\u001b[0mself\u001b[0m\u001b[0;34m)\u001b[0m\u001b[0;34m\u001b[0m\u001b[0;34m\u001b[0m\u001b[0m\n\u001b[0m\u001b[1;32m    276\u001b[0m \u001b[0;34m\u001b[0m\u001b[0m\n\u001b[1;32m    277\u001b[0m     \u001b[0;32mdef\u001b[0m \u001b[0mconverged\u001b[0m\u001b[0;34m(\u001b[0m\u001b[0mself\u001b[0m\u001b[0;34m,\u001b[0m \u001b[0mforces\u001b[0m\u001b[0;34m=\u001b[0m\u001b[0;32mNone\u001b[0m\u001b[0;34m)\u001b[0m\u001b[0;34m:\u001b[0m\u001b[0;34m\u001b[0m\u001b[0;34m\u001b[0m\u001b[0m\n",
      "\u001b[0;32m~/miniconda3/lib/python3.8/site-packages/ase/optimize/optimize.py\u001b[0m in \u001b[0;36mrun\u001b[0;34m(self)\u001b[0m\n\u001b[1;32m    160\u001b[0m         *steps*.\"\"\"\n\u001b[1;32m    161\u001b[0m \u001b[0;34m\u001b[0m\u001b[0m\n\u001b[0;32m--> 162\u001b[0;31m         \u001b[0;32mfor\u001b[0m \u001b[0mconverged\u001b[0m \u001b[0;32min\u001b[0m \u001b[0mDynamics\u001b[0m\u001b[0;34m.\u001b[0m\u001b[0mirun\u001b[0m\u001b[0;34m(\u001b[0m\u001b[0mself\u001b[0m\u001b[0;34m)\u001b[0m\u001b[0;34m:\u001b[0m\u001b[0;34m\u001b[0m\u001b[0;34m\u001b[0m\u001b[0m\n\u001b[0m\u001b[1;32m    163\u001b[0m             \u001b[0;32mpass\u001b[0m\u001b[0;34m\u001b[0m\u001b[0;34m\u001b[0m\u001b[0m\n\u001b[1;32m    164\u001b[0m         \u001b[0;32mreturn\u001b[0m \u001b[0mconverged\u001b[0m\u001b[0;34m\u001b[0m\u001b[0;34m\u001b[0m\u001b[0m\n",
      "\u001b[0;32m~/miniconda3/lib/python3.8/site-packages/ase/optimize/optimize.py\u001b[0m in \u001b[0;36mirun\u001b[0;34m(self)\u001b[0m\n\u001b[1;32m    139\u001b[0m \u001b[0;34m\u001b[0m\u001b[0m\n\u001b[1;32m    140\u001b[0m             \u001b[0;31m# compute the next step\u001b[0m\u001b[0;34m\u001b[0m\u001b[0;34m\u001b[0m\u001b[0;34m\u001b[0m\u001b[0m\n\u001b[0;32m--> 141\u001b[0;31m             \u001b[0mself\u001b[0m\u001b[0;34m.\u001b[0m\u001b[0mstep\u001b[0m\u001b[0;34m(\u001b[0m\u001b[0;34m)\u001b[0m\u001b[0;34m\u001b[0m\u001b[0;34m\u001b[0m\u001b[0m\n\u001b[0m\u001b[1;32m    142\u001b[0m             \u001b[0mself\u001b[0m\u001b[0;34m.\u001b[0m\u001b[0mnsteps\u001b[0m \u001b[0;34m+=\u001b[0m \u001b[0;36m1\u001b[0m\u001b[0;34m\u001b[0m\u001b[0;34m\u001b[0m\u001b[0m\n\u001b[1;32m    143\u001b[0m \u001b[0;34m\u001b[0m\u001b[0m\n",
      "\u001b[0;32m~/miniconda3/lib/python3.8/site-packages/ase/optimize/precon/lbfgs.py\u001b[0m in \u001b[0;36mstep\u001b[0;34m(self, f)\u001b[0m\n\u001b[1;32m    254\u001b[0m         \u001b[0;32melse\u001b[0m\u001b[0;34m:\u001b[0m\u001b[0;34m\u001b[0m\u001b[0;34m\u001b[0m\u001b[0m\n\u001b[1;32m    255\u001b[0m             \u001b[0me\u001b[0m \u001b[0;34m=\u001b[0m \u001b[0mself\u001b[0m\u001b[0;34m.\u001b[0m\u001b[0mfunc\u001b[0m\u001b[0;34m(\u001b[0m\u001b[0mr\u001b[0m\u001b[0;34m)\u001b[0m\u001b[0;34m\u001b[0m\u001b[0;34m\u001b[0m\u001b[0m\n\u001b[0;32m--> 256\u001b[0;31m         \u001b[0mself\u001b[0m\u001b[0;34m.\u001b[0m\u001b[0mline_search\u001b[0m\u001b[0;34m(\u001b[0m\u001b[0mr\u001b[0m\u001b[0;34m,\u001b[0m \u001b[0mg\u001b[0m\u001b[0;34m,\u001b[0m \u001b[0me\u001b[0m\u001b[0;34m,\u001b[0m \u001b[0mpreviously_reset_hessian\u001b[0m\u001b[0;34m)\u001b[0m\u001b[0;34m\u001b[0m\u001b[0;34m\u001b[0m\u001b[0m\n\u001b[0m\u001b[1;32m    257\u001b[0m         \u001b[0mdr\u001b[0m \u001b[0;34m=\u001b[0m \u001b[0;34m(\u001b[0m\u001b[0mself\u001b[0m\u001b[0;34m.\u001b[0m\u001b[0malpha_k\u001b[0m \u001b[0;34m*\u001b[0m \u001b[0mself\u001b[0m\u001b[0;34m.\u001b[0m\u001b[0mp\u001b[0m\u001b[0;34m)\u001b[0m\u001b[0;34m.\u001b[0m\u001b[0mreshape\u001b[0m\u001b[0;34m(\u001b[0m\u001b[0mlen\u001b[0m\u001b[0;34m(\u001b[0m\u001b[0mself\u001b[0m\u001b[0;34m.\u001b[0m\u001b[0matoms\u001b[0m\u001b[0;34m)\u001b[0m\u001b[0;34m,\u001b[0m \u001b[0;34m-\u001b[0m\u001b[0;36m1\u001b[0m\u001b[0;34m)\u001b[0m\u001b[0;34m\u001b[0m\u001b[0;34m\u001b[0m\u001b[0m\n\u001b[1;32m    258\u001b[0m \u001b[0;34m\u001b[0m\u001b[0m\n",
      "\u001b[0;32m~/miniconda3/lib/python3.8/site-packages/ase/optimize/precon/lbfgs.py\u001b[0m in \u001b[0;36mline_search\u001b[0;34m(self, r, g, e, previously_reset_hessian)\u001b[0m\n\u001b[1;32m    367\u001b[0m             \u001b[0mself\u001b[0m\u001b[0;34m.\u001b[0m\u001b[0me1\u001b[0m \u001b[0;34m=\u001b[0m \u001b[0me\u001b[0m\u001b[0;34m\u001b[0m\u001b[0;34m\u001b[0m\u001b[0m\n\u001b[1;32m    368\u001b[0m             \u001b[0;32mif\u001b[0m \u001b[0mself\u001b[0m\u001b[0;34m.\u001b[0m\u001b[0malpha_k\u001b[0m \u001b[0;32mis\u001b[0m \u001b[0;32mNone\u001b[0m\u001b[0;34m:\u001b[0m\u001b[0;34m\u001b[0m\u001b[0;34m\u001b[0m\u001b[0m\n\u001b[0;32m--> 369\u001b[0;31m                 \u001b[0;32mraise\u001b[0m \u001b[0mRuntimeError\u001b[0m\u001b[0;34m(\u001b[0m\u001b[0;34m'Wolff lineSearch failed!'\u001b[0m\u001b[0;34m)\u001b[0m\u001b[0;34m\u001b[0m\u001b[0;34m\u001b[0m\u001b[0m\n\u001b[0m\u001b[1;32m    370\u001b[0m \u001b[0;34m\u001b[0m\u001b[0m\n\u001b[1;32m    371\u001b[0m     \u001b[0;32mdef\u001b[0m \u001b[0mrun\u001b[0m\u001b[0;34m(\u001b[0m\u001b[0mself\u001b[0m\u001b[0;34m,\u001b[0m \u001b[0mfmax\u001b[0m\u001b[0;34m=\u001b[0m\u001b[0;36m0.05\u001b[0m\u001b[0;34m,\u001b[0m \u001b[0msteps\u001b[0m\u001b[0;34m=\u001b[0m\u001b[0;36m100000000\u001b[0m\u001b[0;34m,\u001b[0m \u001b[0msmax\u001b[0m\u001b[0;34m=\u001b[0m\u001b[0;32mNone\u001b[0m\u001b[0;34m)\u001b[0m\u001b[0;34m:\u001b[0m\u001b[0;34m\u001b[0m\u001b[0;34m\u001b[0m\u001b[0m\n",
      "\u001b[0;31mRuntimeError\u001b[0m: Wolff lineSearch failed!"
     ]
    }
   ],
   "source": [
    "surf = read(\"../prop_calc/NRLTB_hcp_surf.xyz\")\n",
    "bulk = read(\"../prop_calc/NRLTB_hcp3.xyz\")\n",
    "bulk.set_calculator(calculator)\n",
    "surf.set_calculator(calculator)\n",
    "properties = surface.do_symmetric_surface(bulk, surf, calculator)\n",
    "print(\"ERROR [%]\", (properties[\"Ef\"]/0.13312275617023367)*100 - 100)\n",
    "print(properties[\"Ef\"])\n",
    "#NRLTB 0.13350719987790835"
   ]
  },
  {
   "cell_type": "code",
   "execution_count": 28,
   "metadata": {},
   "outputs": [
    {
     "output_type": "stream",
     "name": "stdout",
     "text": [
      "relax_config failed to determined base_run_root\n",
      "relax_config symmetry before refinement at default tol 1.0e-6\n",
      "ase.spacegroup.symmetrize: prec 1e-06 got symmetry group number 221 , international (Hermann-Mauguin) Pm-3m , Hall  -P 4 2 3\n",
      "PreconLBFGS:   0  23:21:21     -315.655429       0.7621\n",
      "PreconLBFGS:   1  23:21:21     -316.467318       0.7853\n",
      "PreconLBFGS:   2  23:21:21     -316.559224       0.9832\n",
      "PreconLBFGS:   3  23:21:21     -316.807623       0.9976\n",
      "PreconLBFGS:   4  23:21:22     -317.170814       0.4900\n",
      "PreconLBFGS:   5  23:21:22     -317.258417       0.5111\n",
      "PreconLBFGS:   6  23:21:22     -317.396572       0.3951\n",
      "PreconLBFGS:   7  23:21:22     -317.559982       0.2772\n",
      "PreconLBFGS:   8  23:21:22     -317.577614       0.2328\n",
      "PreconLBFGS:   9  23:21:22     -317.682816       0.2520\n",
      "PreconLBFGS:  10  23:21:23     -317.809269       0.3400\n",
      "PreconLBFGS:  11  23:21:23     -317.817556       0.3001\n",
      "PreconLBFGS:  12  23:21:23     -317.836966       0.1928\n",
      "PreconLBFGS:  13  23:21:23     -317.860816       0.1302\n",
      "PreconLBFGS:  14  23:21:23     -317.865850       0.0931\n",
      "PreconLBFGS:  15  23:21:23     -317.868180       0.0557\n",
      "PreconLBFGS:  16  23:21:23     -317.869094       0.0256\n",
      "PreconLBFGS:  17  23:21:23     -317.869405       0.0100\n",
      "PreconLBFGS:  18  23:21:24     -317.869434       0.0012\n",
      "symmetry at end of relaxation at default tol 1e-6\n",
      "ase.spacegroup.symmetrize: prec 1e-06 got symmetry group number 221 , international (Hermann-Mauguin) Pm-3m , Hall  -P 4 2 3\n",
      "got vacancy ind_0_Z_22 cell energy -317.86943393817285 n_atoms 53\n",
      "got bulk energy -317.0951624000747  (scaled to (N-1)/N if single component)\n",
      "-0.7742715380981622\n",
      "ERROR [%] -61.549402966582484\n",
      "-0.7742715380981622\n"
     ]
    }
   ],
   "source": [
    "from ase.io import read, write\n",
    "at = read(\"../prop_calc/NRLTB_bcc3.xyz\")\n",
    "at.set_calculator(calculator)\n",
    "properties = vacancy.do_one_vacancy(at, calculator)\n",
    "print(properties[4])\n",
    "print(\"ERROR [%]\", (properties[4]/-2.01367884463599)*100 - 100)\n",
    "print(properties[4])\n",
    "#0.06872494799677042"
   ]
  },
  {
   "cell_type": "code",
   "execution_count": 29,
   "metadata": {},
   "outputs": [
    {
     "output_type": "stream",
     "name": "stdout",
     "text": [
      "got relaxed bulk cell  Cell([[9.787706024992827, 1.5111959773950004e-32, 4.0392805617045097e-38], [-1.5111959773950004e-32, 9.787706024992827, 7.646795577667676e-39], [-3.09513434195661e-38, -3.558886819685004e-38, 9.787706024992827]])\n",
      "got rescaled surf cell  Cell([[9.787706024992827, 1.5111959773950004e-32, 4.0392805617045097e-38], [-1.5111959773950004e-32, 9.787706024992827, 7.646795577667676e-39], [-3.09513434195661e-38, -3.558886819685004e-38, 19.575412049985655]])\n",
      "relax_config failed to determined base_run_root\n",
      "relax_config symmetry before refinement at default tol 1.0e-6\n",
      "ase.spacegroup.symmetrize: prec 1e-06 got symmetry group number 129 , international (Hermann-Mauguin) P4/nmm , Hall  P 4ab 2ab -1ab\n",
      "PreconLBFGS:   0  23:21:26     -305.604428       0.6537\n",
      "PreconLBFGS:   1  23:21:26     -307.525638       0.5745\n",
      "PreconLBFGS:   2  23:21:26     -307.966298       0.4932\n",
      "PreconLBFGS:   3  23:21:27     -316.736144       1.3115\n",
      "PreconLBFGS:   4  23:21:27     -316.928579       1.5577\n",
      "PreconLBFGS:   5  23:21:28     -321.381456       0.3780\n",
      "PreconLBFGS:   6  23:21:28     -321.686138       0.4414\n",
      "PreconLBFGS:   7  23:21:28     -321.794500       0.2044\n",
      "PreconLBFGS:   8  23:21:28     -321.811862       0.0705\n",
      "PreconLBFGS:   9  23:21:28     -321.815993       0.0257\n",
      "PreconLBFGS:  10  23:21:28     -321.817131       0.0080\n",
      "symmetry at end of relaxation at default tol 1e-6\n",
      "ase.spacegroup.symmetrize: prec 1e-06 got symmetry group number 129 , international (Hermann-Mauguin) P4/nmm , Hall  P 4ab 2ab -1ab\n",
      "got surface cell potential energy -321.81713102360357\n",
      "got bulk potential energy -323.07808999252893\n",
      "got area 95.7991892316809\n",
      "ERROR [%] -92.69437335720714\n",
      "0.006581261172659093\n"
     ]
    }
   ],
   "source": [
    "surf = read(\"../prop_calc/NRLTB_bcc_surf.xyz\")\n",
    "bulk = read(\"../prop_calc/NRLTB_bcc3.xyz\")\n",
    "bulk.set_calculator(calculator)\n",
    "surf.set_calculator(calculator)\n",
    "properties = surface.do_symmetric_surface(bulk, surf, calculator)\n",
    "print(\"ERROR [%]\", (properties[\"Ef\"]/0.09008482768759662)*100 - 100)\n",
    "print(properties[\"Ef\"])\n",
    "#NRLTB 0.0904881854375216 KLOPT DIT?"
   ]
  },
  {
   "cell_type": "code",
   "execution_count": 75,
   "metadata": {},
   "outputs": [
    {
     "output_type": "execute_result",
     "data": {
      "text/plain": [
       "0.10737691241333765"
      ]
     },
     "metadata": {},
     "execution_count": 75
    }
   ],
   "source": []
  },
  {
   "cell_type": "code",
   "execution_count": null,
   "metadata": {},
   "outputs": [],
   "source": []
  },
  {
   "cell_type": "code",
   "execution_count": 50,
   "metadata": {},
   "outputs": [],
   "source": [
    "from ase.io import read, write\n",
    "import matplotlib.pyplot as plt\n",
    "al = read(\"../ev_ph/FLD_hcp_bcc_big-4+3p_conv.xyz\", \":\")\n",
    "import numpy as np"
   ]
  },
  {
   "cell_type": "code",
   "execution_count": 128,
   "metadata": {},
   "outputs": [],
   "source": [
    "import json\n",
    "with open('../prop_calc/TiAl-model-NRLTB-test-bulk_Ti_bcc-properties.json') as f:\n",
    "  datab = json.load(f)\n",
    "\n",
    "import json\n",
    "with open('../prop_calc/TiAl-model-NRLTB-test-bulk_Ti_hcp-properties.json') as f:\n",
    "  datah = json.load(f)\n",
    "\n",
    "E_Tb = [ datab[\"E_vs_V\"][i][1] for i in range(len(datab[\"E_vs_V\"])) ]\n",
    "V_Tb = [ datab[\"E_vs_V\"][i][0] for i in range(len(datab[\"E_vs_V\"])) ]\n",
    "\n",
    "E_Th = [ datah[\"E_vs_V\"][i][1] for i in range(len(datah[\"E_vs_V\"])) ]\n",
    "V_Th = [ datah[\"E_vs_V\"][i][0] for i in range(len(datah[\"E_vs_V\"])) ]"
   ]
  },
  {
   "cell_type": "code",
   "execution_count": 52,
   "metadata": {},
   "outputs": [],
   "source": [
    "from ase.io import read, write\n",
    "import matplotlib.pyplot as plt\n",
    "al = read(\"../ev_ph/FLD_hcp_bcc_big-4+3p_conv.xyz\", \":\")\n",
    "import numpy as np\n",
    "\n",
    "EVb = [ (at.get_volume()/len(at), at.info[\"energy\"]/len(at)) for at in al if at.info[\"config_type\"] == \"FLD_bcc\"]\n",
    "EVh = [ (at.get_volume()/len(at), at.info[\"energy\"]/len(at)) for at in al if at.info[\"config_type\"] == \"FLD_hcp\"]"
   ]
  },
  {
   "cell_type": "code",
   "execution_count": 53,
   "metadata": {},
   "outputs": [
    {
     "output_type": "execute_result",
     "data": {
      "text/plain": [
       "<matplotlib.collections.PathCollection at 0x7f82cb0c8d00>"
      ]
     },
     "metadata": {},
     "execution_count": 53
    },
    {
     "output_type": "display_data",
     "data": {
      "text/plain": "<Figure size 432x288 with 1 Axes>",
      "image/svg+xml": "<?xml version=\"1.0\" encoding=\"utf-8\" standalone=\"no\"?>\n<!DOCTYPE svg PUBLIC \"-//W3C//DTD SVG 1.1//EN\"\n  \"http://www.w3.org/Graphics/SVG/1.1/DTD/svg11.dtd\">\n<!-- Created with matplotlib (https://matplotlib.org/) -->\n<svg height=\"248.518125pt\" version=\"1.1\" viewBox=\"0 0 380.482812 248.518125\" width=\"380.482812pt\" xmlns=\"http://www.w3.org/2000/svg\" xmlns:xlink=\"http://www.w3.org/1999/xlink\">\n <metadata>\n  <rdf:RDF xmlns:cc=\"http://creativecommons.org/ns#\" xmlns:dc=\"http://purl.org/dc/elements/1.1/\" xmlns:rdf=\"http://www.w3.org/1999/02/22-rdf-syntax-ns#\">\n   <cc:Work>\n    <dc:type rdf:resource=\"http://purl.org/dc/dcmitype/StillImage\"/>\n    <dc:date>2021-02-08T22:04:33.825458</dc:date>\n    <dc:format>image/svg+xml</dc:format>\n    <dc:creator>\n     <cc:Agent>\n      <dc:title>Matplotlib v3.3.2, https://matplotlib.org/</dc:title>\n     </cc:Agent>\n    </dc:creator>\n   </cc:Work>\n  </rdf:RDF>\n </metadata>\n <defs>\n  <style type=\"text/css\">*{stroke-linecap:butt;stroke-linejoin:round;}</style>\n </defs>\n <g id=\"figure_1\">\n  <g id=\"patch_1\">\n   <path d=\"M -0 248.518125 \nL 380.482812 248.518125 \nL 380.482812 0 \nL -0 0 \nz\n\" style=\"fill:none;\"/>\n  </g>\n  <g id=\"axes_1\">\n   <g id=\"patch_2\">\n    <path d=\"M 38.482813 224.64 \nL 373.282813 224.64 \nL 373.282813 7.2 \nL 38.482813 7.2 \nz\n\" style=\"fill:#ffffff;\"/>\n   </g>\n   <g id=\"PathCollection_1\">\n    <defs>\n     <path d=\"M 0 3 \nC 0.795609 3 1.55874 2.683901 2.12132 2.12132 \nC 2.683901 1.55874 3 0.795609 3 0 \nC 3 -0.795609 2.683901 -1.55874 2.12132 -2.12132 \nC 1.55874 -2.683901 0.795609 -3 0 -3 \nC -0.795609 -3 -1.55874 -2.683901 -2.12132 -2.12132 \nC -2.683901 -1.55874 -3 -0.795609 -3 0 \nC -3 0.795609 -2.683901 1.55874 -2.12132 2.12132 \nC -1.55874 2.683901 -0.795609 3 0 3 \nz\n\" id=\"mdefef4345b\" style=\"stroke:#1f77b4;\"/>\n    </defs>\n    <g clip-path=\"url(#pebb604a71c)\">\n     <use style=\"fill:#1f77b4;stroke:#1f77b4;\" x=\"127.812154\" xlink:href=\"#mdefef4345b\" y=\"140.044072\"/>\n     <use style=\"fill:#1f77b4;stroke:#1f77b4;\" x=\"127.812154\" xlink:href=\"#mdefef4345b\" y=\"139.315818\"/>\n     <use style=\"fill:#1f77b4;stroke:#1f77b4;\" x=\"127.812154\" xlink:href=\"#mdefef4345b\" y=\"144.824288\"/>\n     <use style=\"fill:#1f77b4;stroke:#1f77b4;\" x=\"127.812154\" xlink:href=\"#mdefef4345b\" y=\"139.917014\"/>\n     <use style=\"fill:#1f77b4;stroke:#1f77b4;\" x=\"127.812154\" xlink:href=\"#mdefef4345b\" y=\"138.286275\"/>\n     <use style=\"fill:#1f77b4;stroke:#1f77b4;\" x=\"154.913727\" xlink:href=\"#mdefef4345b\" y=\"162.80673\"/>\n     <use style=\"fill:#1f77b4;stroke:#1f77b4;\" x=\"154.913727\" xlink:href=\"#mdefef4345b\" y=\"165.987041\"/>\n     <use style=\"fill:#1f77b4;stroke:#1f77b4;\" x=\"154.226228\" xlink:href=\"#mdefef4345b\" y=\"162.523719\"/>\n     <use style=\"fill:#1f77b4;stroke:#1f77b4;\" x=\"154.913727\" xlink:href=\"#mdefef4345b\" y=\"162.512204\"/>\n     <use style=\"fill:#1f77b4;stroke:#1f77b4;\" x=\"166.716168\" xlink:href=\"#mdefef4345b\" y=\"163.945471\"/>\n     <use style=\"fill:#1f77b4;stroke:#1f77b4;\" x=\"183.003272\" xlink:href=\"#mdefef4345b\" y=\"173.305616\"/>\n     <use style=\"fill:#1f77b4;stroke:#1f77b4;\" x=\"183.003272\" xlink:href=\"#mdefef4345b\" y=\"175.165564\"/>\n     <use style=\"fill:#1f77b4;stroke:#1f77b4;\" x=\"181.339656\" xlink:href=\"#mdefef4345b\" y=\"171.559288\"/>\n     <use style=\"fill:#1f77b4;stroke:#1f77b4;\" x=\"186.868523\" xlink:href=\"#mdefef4345b\" y=\"177.304846\"/>\n     <use style=\"fill:#1f77b4;stroke:#1f77b4;\" x=\"183.003272\" xlink:href=\"#mdefef4345b\" y=\"175.376583\"/>\n     <use style=\"fill:#1f77b4;stroke:#1f77b4;\" x=\"208.343083\" xlink:href=\"#mdefef4345b\" y=\"176.891275\"/>\n     <use style=\"fill:#1f77b4;stroke:#1f77b4;\" x=\"212.098474\" xlink:href=\"#mdefef4345b\" y=\"177.217512\"/>\n     <use style=\"fill:#1f77b4;stroke:#1f77b4;\" x=\"208.255167\" xlink:href=\"#mdefef4345b\" y=\"178.781956\"/>\n     <use style=\"fill:#1f77b4;stroke:#1f77b4;\" x=\"212.098474\" xlink:href=\"#mdefef4345b\" y=\"175.098154\"/>\n     <use style=\"fill:#1f77b4;stroke:#1f77b4;\" x=\"221.74936\" xlink:href=\"#mdefef4345b\" y=\"171.628176\"/>\n     <use style=\"fill:#1f77b4;stroke:#1f77b4;\" x=\"242.217022\" xlink:href=\"#mdefef4345b\" y=\"167.822177\"/>\n     <use style=\"fill:#1f77b4;stroke:#1f77b4;\" x=\"242.217022\" xlink:href=\"#mdefef4345b\" y=\"166.414234\"/>\n     <use style=\"fill:#1f77b4;stroke:#1f77b4;\" x=\"245.349085\" xlink:href=\"#mdefef4345b\" y=\"165.171387\"/>\n     <use style=\"fill:#1f77b4;stroke:#1f77b4;\" x=\"249.329146\" xlink:href=\"#mdefef4345b\" y=\"167.294852\"/>\n     <use style=\"fill:#1f77b4;stroke:#1f77b4;\" x=\"242.217022\" xlink:href=\"#mdefef4345b\" y=\"165.923091\"/>\n    </g>\n   </g>\n   <g id=\"PathCollection_2\">\n    <defs>\n     <path d=\"M 0 3 \nC 0.795609 3 1.55874 2.683901 2.12132 2.12132 \nC 2.683901 1.55874 3 0.795609 3 0 \nC 3 -0.795609 2.683901 -1.55874 2.12132 -2.12132 \nC 1.55874 -2.683901 0.795609 -3 0 -3 \nC -0.795609 -3 -1.55874 -2.683901 -2.12132 -2.12132 \nC -2.683901 -1.55874 -3 -0.795609 -3 0 \nC -3 0.795609 -2.683901 1.55874 -2.12132 2.12132 \nC -1.55874 2.683901 -0.795609 3 0 3 \nz\n\" id=\"m8c8eac2f53\" style=\"stroke:#ff7f0e;\"/>\n    </defs>\n    <g clip-path=\"url(#pebb604a71c)\">\n     <use style=\"fill:#ff7f0e;stroke:#ff7f0e;\" x=\"137.858268\" xlink:href=\"#m8c8eac2f53\" y=\"147.729388\"/>\n     <use style=\"fill:#ff7f0e;stroke:#ff7f0e;\" x=\"148.578703\" xlink:href=\"#m8c8eac2f53\" y=\"159.593908\"/>\n     <use style=\"fill:#ff7f0e;stroke:#ff7f0e;\" x=\"152.822409\" xlink:href=\"#m8c8eac2f53\" y=\"173.471284\"/>\n     <use style=\"fill:#ff7f0e;stroke:#ff7f0e;\" x=\"148.578703\" xlink:href=\"#m8c8eac2f53\" y=\"169.545101\"/>\n     <use style=\"fill:#ff7f0e;stroke:#ff7f0e;\" x=\"158.383358\" xlink:href=\"#m8c8eac2f53\" y=\"168.191968\"/>\n     <use style=\"fill:#ff7f0e;stroke:#ff7f0e;\" x=\"176.836775\" xlink:href=\"#m8c8eac2f53\" y=\"177.980574\"/>\n     <use style=\"fill:#ff7f0e;stroke:#ff7f0e;\" x=\"175.103486\" xlink:href=\"#m8c8eac2f53\" y=\"183.251252\"/>\n     <use style=\"fill:#ff7f0e;stroke:#ff7f0e;\" x=\"176.836775\" xlink:href=\"#m8c8eac2f53\" y=\"182.809602\"/>\n     <use style=\"fill:#ff7f0e;stroke:#ff7f0e;\" x=\"176.836775\" xlink:href=\"#m8c8eac2f53\" y=\"179.624347\"/>\n     <use style=\"fill:#ff7f0e;stroke:#ff7f0e;\" x=\"180.765866\" xlink:href=\"#m8c8eac2f53\" y=\"184.469618\"/>\n     <use style=\"fill:#ff7f0e;stroke:#ff7f0e;\" x=\"201.210077\" xlink:href=\"#m8c8eac2f53\" y=\"188.055941\"/>\n     <use style=\"fill:#ff7f0e;stroke:#ff7f0e;\" x=\"199.447971\" xlink:href=\"#m8c8eac2f53\" y=\"187.682655\"/>\n     <use style=\"fill:#ff7f0e;stroke:#ff7f0e;\" x=\"206.124977\" xlink:href=\"#m8c8eac2f53\" y=\"187.955915\"/>\n     <use style=\"fill:#ff7f0e;stroke:#ff7f0e;\" x=\"205.389786\" xlink:href=\"#m8c8eac2f53\" y=\"186.619517\"/>\n     <use style=\"fill:#ff7f0e;stroke:#ff7f0e;\" x=\"206.124977\" xlink:href=\"#m8c8eac2f53\" y=\"182.982132\"/>\n     <use style=\"fill:#ff7f0e;stroke:#ff7f0e;\" x=\"236.461752\" xlink:href=\"#m8c8eac2f53\" y=\"182.750448\"/>\n     <use style=\"fill:#ff7f0e;stroke:#ff7f0e;\" x=\"230.260106\" xlink:href=\"#m8c8eac2f53\" y=\"186.458964\"/>\n     <use style=\"fill:#ff7f0e;stroke:#ff7f0e;\" x=\"236.664349\" xlink:href=\"#m8c8eac2f53\" y=\"181.861088\"/>\n     <use style=\"fill:#ff7f0e;stroke:#ff7f0e;\" x=\"240.519295\" xlink:href=\"#m8c8eac2f53\" y=\"183.134707\"/>\n     <use style=\"fill:#ff7f0e;stroke:#ff7f0e;\" x=\"244.08832\" xlink:href=\"#m8c8eac2f53\" y=\"183.152038\"/>\n     <use style=\"fill:#ff7f0e;stroke:#ff7f0e;\" x=\"267.865541\" xlink:href=\"#m8c8eac2f53\" y=\"174.392069\"/>\n     <use style=\"fill:#ff7f0e;stroke:#ff7f0e;\" x=\"267.865541\" xlink:href=\"#m8c8eac2f53\" y=\"174.915734\"/>\n     <use style=\"fill:#ff7f0e;stroke:#ff7f0e;\" x=\"267.865541\" xlink:href=\"#m8c8eac2f53\" y=\"175.320209\"/>\n     <use style=\"fill:#ff7f0e;stroke:#ff7f0e;\" x=\"267.865541\" xlink:href=\"#m8c8eac2f53\" y=\"175.07096\"/>\n     <use style=\"fill:#ff7f0e;stroke:#ff7f0e;\" x=\"267.865541\" xlink:href=\"#m8c8eac2f53\" y=\"169.44656\"/>\n    </g>\n   </g>\n   <g id=\"PathCollection_3\">\n    <defs>\n     <path d=\"M 0 3 \nC 0.795609 3 1.55874 2.683901 2.12132 2.12132 \nC 2.683901 1.55874 3 0.795609 3 0 \nC 3 -0.795609 2.683901 -1.55874 2.12132 -2.12132 \nC 1.55874 -2.683901 0.795609 -3 0 -3 \nC -0.795609 -3 -1.55874 -2.683901 -2.12132 -2.12132 \nC -2.683901 -1.55874 -3 -0.795609 -3 0 \nC -3 0.795609 -2.683901 1.55874 -2.12132 2.12132 \nC -1.55874 2.683901 -0.795609 3 0 3 \nz\n\" id=\"mf42e97c299\" style=\"stroke:#2ca02c;\"/>\n    </defs>\n    <g clip-path=\"url(#pebb604a71c)\">\n     <use style=\"fill:#2ca02c;stroke:#2ca02c;\" x=\"53.700994\" xlink:href=\"#mf42e97c299\" y=\"17.083636\"/>\n     <use style=\"fill:#2ca02c;stroke:#2ca02c;\" x=\"67.452174\" xlink:href=\"#mf42e97c299\" y=\"54.762793\"/>\n     <use style=\"fill:#2ca02c;stroke:#2ca02c;\" x=\"81.203354\" xlink:href=\"#mf42e97c299\" y=\"86.236252\"/>\n     <use style=\"fill:#2ca02c;stroke:#2ca02c;\" x=\"94.954534\" xlink:href=\"#mf42e97c299\" y=\"112.205309\"/>\n     <use style=\"fill:#2ca02c;stroke:#2ca02c;\" x=\"108.705715\" xlink:href=\"#mf42e97c299\" y=\"133.269734\"/>\n     <use style=\"fill:#2ca02c;stroke:#2ca02c;\" x=\"122.456895\" xlink:href=\"#mf42e97c299\" y=\"149.953738\"/>\n     <use style=\"fill:#2ca02c;stroke:#2ca02c;\" x=\"136.208075\" xlink:href=\"#mf42e97c299\" y=\"162.721993\"/>\n     <use style=\"fill:#2ca02c;stroke:#2ca02c;\" x=\"149.959255\" xlink:href=\"#mf42e97c299\" y=\"171.988018\"/>\n     <use style=\"fill:#2ca02c;stroke:#2ca02c;\" x=\"163.710435\" xlink:href=\"#mf42e97c299\" y=\"178.109689\"/>\n     <use style=\"fill:#2ca02c;stroke:#2ca02c;\" x=\"177.461615\" xlink:href=\"#mf42e97c299\" y=\"181.410091\"/>\n     <use style=\"fill:#2ca02c;stroke:#2ca02c;\" x=\"191.212795\" xlink:href=\"#mf42e97c299\" y=\"182.18427\"/>\n     <use style=\"fill:#2ca02c;stroke:#2ca02c;\" x=\"204.963975\" xlink:href=\"#mf42e97c299\" y=\"182.955735\"/>\n     <use style=\"fill:#2ca02c;stroke:#2ca02c;\" x=\"218.715155\" xlink:href=\"#mf42e97c299\" y=\"182.206894\"/>\n     <use style=\"fill:#2ca02c;stroke:#2ca02c;\" x=\"232.466335\" xlink:href=\"#mf42e97c299\" y=\"179.454724\"/>\n     <use style=\"fill:#2ca02c;stroke:#2ca02c;\" x=\"246.217515\" xlink:href=\"#mf42e97c299\" y=\"174.901693\"/>\n     <use style=\"fill:#2ca02c;stroke:#2ca02c;\" x=\"259.968695\" xlink:href=\"#mf42e97c299\" y=\"168.733868\"/>\n     <use style=\"fill:#2ca02c;stroke:#2ca02c;\" x=\"273.719875\" xlink:href=\"#mf42e97c299\" y=\"161.122698\"/>\n     <use style=\"fill:#2ca02c;stroke:#2ca02c;\" x=\"287.471055\" xlink:href=\"#mf42e97c299\" y=\"152.226691\"/>\n     <use style=\"fill:#2ca02c;stroke:#2ca02c;\" x=\"301.222235\" xlink:href=\"#mf42e97c299\" y=\"142.193068\"/>\n     <use style=\"fill:#2ca02c;stroke:#2ca02c;\" x=\"314.973415\" xlink:href=\"#mf42e97c299\" y=\"131.157063\"/>\n     <use style=\"fill:#2ca02c;stroke:#2ca02c;\" x=\"328.724595\" xlink:href=\"#mf42e97c299\" y=\"119.244581\"/>\n    </g>\n   </g>\n   <g id=\"PathCollection_4\">\n    <defs>\n     <path d=\"M 0 3 \nC 0.795609 3 1.55874 2.683901 2.12132 2.12132 \nC 2.683901 1.55874 3 0.795609 3 0 \nC 3 -0.795609 2.683901 -1.55874 2.12132 -2.12132 \nC 1.55874 -2.683901 0.795609 -3 0 -3 \nC -0.795609 -3 -1.55874 -2.683901 -2.12132 -2.12132 \nC -2.683901 -1.55874 -3 -0.795609 -3 0 \nC -3 0.795609 -2.683901 1.55874 -2.12132 2.12132 \nC -1.55874 2.683901 -0.795609 3 0 3 \nz\n\" id=\"m7eabce5afb\" style=\"stroke:#d62728;\"/>\n    </defs>\n    <g clip-path=\"url(#pebb604a71c)\">\n     <use style=\"fill:#d62728;stroke:#d62728;\" x=\"71.305016\" xlink:href=\"#m7eabce5afb\" y=\"67.730336\"/>\n     <use style=\"fill:#d62728;stroke:#d62728;\" x=\"85.642996\" xlink:href=\"#m7eabce5afb\" y=\"101.435949\"/>\n     <use style=\"fill:#d62728;stroke:#d62728;\" x=\"99.980977\" xlink:href=\"#m7eabce5afb\" y=\"129.816963\"/>\n     <use style=\"fill:#d62728;stroke:#d62728;\" x=\"114.318958\" xlink:href=\"#m7eabce5afb\" y=\"152.863488\"/>\n     <use style=\"fill:#d62728;stroke:#d62728;\" x=\"128.656939\" xlink:href=\"#m7eabce5afb\" y=\"172.053256\"/>\n     <use style=\"fill:#d62728;stroke:#d62728;\" x=\"142.994919\" xlink:href=\"#m7eabce5afb\" y=\"185.535248\"/>\n     <use style=\"fill:#d62728;stroke:#d62728;\" x=\"157.3329\" xlink:href=\"#m7eabce5afb\" y=\"197.449777\"/>\n     <use style=\"fill:#d62728;stroke:#d62728;\" x=\"171.670881\" xlink:href=\"#m7eabce5afb\" y=\"205.943178\"/>\n     <use style=\"fill:#d62728;stroke:#d62728;\" x=\"186.008862\" xlink:href=\"#m7eabce5afb\" y=\"211.446362\"/>\n     <use style=\"fill:#d62728;stroke:#d62728;\" x=\"200.346842\" xlink:href=\"#m7eabce5afb\" y=\"214.530312\"/>\n     <use style=\"fill:#d62728;stroke:#d62728;\" x=\"214.684823\" xlink:href=\"#m7eabce5afb\" y=\"214.756364\"/>\n     <use style=\"fill:#d62728;stroke:#d62728;\" x=\"229.022804\" xlink:href=\"#m7eabce5afb\" y=\"213.131005\"/>\n     <use style=\"fill:#d62728;stroke:#d62728;\" x=\"243.360785\" xlink:href=\"#m7eabce5afb\" y=\"209.44873\"/>\n     <use style=\"fill:#d62728;stroke:#d62728;\" x=\"257.698765\" xlink:href=\"#m7eabce5afb\" y=\"203.921785\"/>\n     <use style=\"fill:#d62728;stroke:#d62728;\" x=\"272.036746\" xlink:href=\"#m7eabce5afb\" y=\"196.742057\"/>\n     <use style=\"fill:#d62728;stroke:#d62728;\" x=\"286.374727\" xlink:href=\"#m7eabce5afb\" y=\"188.088695\"/>\n     <use style=\"fill:#d62728;stroke:#d62728;\" x=\"300.712708\" xlink:href=\"#m7eabce5afb\" y=\"178.129503\"/>\n     <use style=\"fill:#d62728;stroke:#d62728;\" x=\"315.050688\" xlink:href=\"#m7eabce5afb\" y=\"167.021251\"/>\n     <use style=\"fill:#d62728;stroke:#d62728;\" x=\"329.388669\" xlink:href=\"#m7eabce5afb\" y=\"154.908095\"/>\n     <use style=\"fill:#d62728;stroke:#d62728;\" x=\"343.72665\" xlink:href=\"#m7eabce5afb\" y=\"141.924003\"/>\n     <use style=\"fill:#d62728;stroke:#d62728;\" x=\"358.064631\" xlink:href=\"#m7eabce5afb\" y=\"128.194388\"/>\n    </g>\n   </g>\n   <g id=\"matplotlib.axis_1\">\n    <g id=\"xtick_1\">\n     <g id=\"line2d_1\">\n      <defs>\n       <path d=\"M 0 0 \nL 0 3.5 \n\" id=\"m8017c4f826\" style=\"stroke:#000000;stroke-width:0.8;\"/>\n      </defs>\n      <g>\n       <use style=\"stroke:#000000;stroke-width:0.8;\" x=\"84.650664\" xlink:href=\"#m8017c4f826\" y=\"224.64\"/>\n      </g>\n     </g>\n     <g id=\"text_1\">\n      <!-- 14 -->\n      <g transform=\"translate(78.288164 239.238438)scale(0.1 -0.1)\">\n       <defs>\n        <path d=\"M 12.40625 8.296875 \nL 28.515625 8.296875 \nL 28.515625 63.921875 \nL 10.984375 60.40625 \nL 10.984375 69.390625 \nL 28.421875 72.90625 \nL 38.28125 72.90625 \nL 38.28125 8.296875 \nL 54.390625 8.296875 \nL 54.390625 0 \nL 12.40625 0 \nz\n\" id=\"DejaVuSans-49\"/>\n        <path d=\"M 37.796875 64.3125 \nL 12.890625 25.390625 \nL 37.796875 25.390625 \nz\nM 35.203125 72.90625 \nL 47.609375 72.90625 \nL 47.609375 25.390625 \nL 58.015625 25.390625 \nL 58.015625 17.1875 \nL 47.609375 17.1875 \nL 47.609375 0 \nL 37.796875 0 \nL 37.796875 17.1875 \nL 4.890625 17.1875 \nL 4.890625 26.703125 \nz\n\" id=\"DejaVuSans-52\"/>\n       </defs>\n       <use xlink:href=\"#DejaVuSans-49\"/>\n       <use x=\"63.623047\" xlink:href=\"#DejaVuSans-52\"/>\n      </g>\n     </g>\n    </g>\n    <g id=\"xtick_2\">\n     <g id=\"line2d_2\">\n      <g>\n       <use style=\"stroke:#000000;stroke-width:0.8;\" x=\"148.005674\" xlink:href=\"#m8017c4f826\" y=\"224.64\"/>\n      </g>\n     </g>\n     <g id=\"text_2\">\n      <!-- 16 -->\n      <g transform=\"translate(141.643174 239.238438)scale(0.1 -0.1)\">\n       <defs>\n        <path d=\"M 33.015625 40.375 \nQ 26.375 40.375 22.484375 35.828125 \nQ 18.609375 31.296875 18.609375 23.390625 \nQ 18.609375 15.53125 22.484375 10.953125 \nQ 26.375 6.390625 33.015625 6.390625 \nQ 39.65625 6.390625 43.53125 10.953125 \nQ 47.40625 15.53125 47.40625 23.390625 \nQ 47.40625 31.296875 43.53125 35.828125 \nQ 39.65625 40.375 33.015625 40.375 \nz\nM 52.59375 71.296875 \nL 52.59375 62.3125 \nQ 48.875 64.0625 45.09375 64.984375 \nQ 41.3125 65.921875 37.59375 65.921875 \nQ 27.828125 65.921875 22.671875 59.328125 \nQ 17.53125 52.734375 16.796875 39.40625 \nQ 19.671875 43.65625 24.015625 45.921875 \nQ 28.375 48.1875 33.59375 48.1875 \nQ 44.578125 48.1875 50.953125 41.515625 \nQ 57.328125 34.859375 57.328125 23.390625 \nQ 57.328125 12.15625 50.6875 5.359375 \nQ 44.046875 -1.421875 33.015625 -1.421875 \nQ 20.359375 -1.421875 13.671875 8.265625 \nQ 6.984375 17.96875 6.984375 36.375 \nQ 6.984375 53.65625 15.1875 63.9375 \nQ 23.390625 74.21875 37.203125 74.21875 \nQ 40.921875 74.21875 44.703125 73.484375 \nQ 48.484375 72.75 52.59375 71.296875 \nz\n\" id=\"DejaVuSans-54\"/>\n       </defs>\n       <use xlink:href=\"#DejaVuSans-49\"/>\n       <use x=\"63.623047\" xlink:href=\"#DejaVuSans-54\"/>\n      </g>\n     </g>\n    </g>\n    <g id=\"xtick_3\">\n     <g id=\"line2d_3\">\n      <g>\n       <use style=\"stroke:#000000;stroke-width:0.8;\" x=\"211.360684\" xlink:href=\"#m8017c4f826\" y=\"224.64\"/>\n      </g>\n     </g>\n     <g id=\"text_3\">\n      <!-- 18 -->\n      <g transform=\"translate(204.998184 239.238438)scale(0.1 -0.1)\">\n       <defs>\n        <path d=\"M 31.78125 34.625 \nQ 24.75 34.625 20.71875 30.859375 \nQ 16.703125 27.09375 16.703125 20.515625 \nQ 16.703125 13.921875 20.71875 10.15625 \nQ 24.75 6.390625 31.78125 6.390625 \nQ 38.8125 6.390625 42.859375 10.171875 \nQ 46.921875 13.96875 46.921875 20.515625 \nQ 46.921875 27.09375 42.890625 30.859375 \nQ 38.875 34.625 31.78125 34.625 \nz\nM 21.921875 38.8125 \nQ 15.578125 40.375 12.03125 44.71875 \nQ 8.5 49.078125 8.5 55.328125 \nQ 8.5 64.0625 14.71875 69.140625 \nQ 20.953125 74.21875 31.78125 74.21875 \nQ 42.671875 74.21875 48.875 69.140625 \nQ 55.078125 64.0625 55.078125 55.328125 \nQ 55.078125 49.078125 51.53125 44.71875 \nQ 48 40.375 41.703125 38.8125 \nQ 48.828125 37.15625 52.796875 32.3125 \nQ 56.78125 27.484375 56.78125 20.515625 \nQ 56.78125 9.90625 50.3125 4.234375 \nQ 43.84375 -1.421875 31.78125 -1.421875 \nQ 19.734375 -1.421875 13.25 4.234375 \nQ 6.78125 9.90625 6.78125 20.515625 \nQ 6.78125 27.484375 10.78125 32.3125 \nQ 14.796875 37.15625 21.921875 38.8125 \nz\nM 18.3125 54.390625 \nQ 18.3125 48.734375 21.84375 45.5625 \nQ 25.390625 42.390625 31.78125 42.390625 \nQ 38.140625 42.390625 41.71875 45.5625 \nQ 45.3125 48.734375 45.3125 54.390625 \nQ 45.3125 60.0625 41.71875 63.234375 \nQ 38.140625 66.40625 31.78125 66.40625 \nQ 25.390625 66.40625 21.84375 63.234375 \nQ 18.3125 60.0625 18.3125 54.390625 \nz\n\" id=\"DejaVuSans-56\"/>\n       </defs>\n       <use xlink:href=\"#DejaVuSans-49\"/>\n       <use x=\"63.623047\" xlink:href=\"#DejaVuSans-56\"/>\n      </g>\n     </g>\n    </g>\n    <g id=\"xtick_4\">\n     <g id=\"line2d_4\">\n      <g>\n       <use style=\"stroke:#000000;stroke-width:0.8;\" x=\"274.715694\" xlink:href=\"#m8017c4f826\" y=\"224.64\"/>\n      </g>\n     </g>\n     <g id=\"text_4\">\n      <!-- 20 -->\n      <g transform=\"translate(268.353194 239.238438)scale(0.1 -0.1)\">\n       <defs>\n        <path d=\"M 19.1875 8.296875 \nL 53.609375 8.296875 \nL 53.609375 0 \nL 7.328125 0 \nL 7.328125 8.296875 \nQ 12.9375 14.109375 22.625 23.890625 \nQ 32.328125 33.6875 34.8125 36.53125 \nQ 39.546875 41.84375 41.421875 45.53125 \nQ 43.3125 49.21875 43.3125 52.78125 \nQ 43.3125 58.59375 39.234375 62.25 \nQ 35.15625 65.921875 28.609375 65.921875 \nQ 23.96875 65.921875 18.8125 64.3125 \nQ 13.671875 62.703125 7.8125 59.421875 \nL 7.8125 69.390625 \nQ 13.765625 71.78125 18.9375 73 \nQ 24.125 74.21875 28.421875 74.21875 \nQ 39.75 74.21875 46.484375 68.546875 \nQ 53.21875 62.890625 53.21875 53.421875 \nQ 53.21875 48.921875 51.53125 44.890625 \nQ 49.859375 40.875 45.40625 35.40625 \nQ 44.1875 33.984375 37.640625 27.21875 \nQ 31.109375 20.453125 19.1875 8.296875 \nz\n\" id=\"DejaVuSans-50\"/>\n        <path d=\"M 31.78125 66.40625 \nQ 24.171875 66.40625 20.328125 58.90625 \nQ 16.5 51.421875 16.5 36.375 \nQ 16.5 21.390625 20.328125 13.890625 \nQ 24.171875 6.390625 31.78125 6.390625 \nQ 39.453125 6.390625 43.28125 13.890625 \nQ 47.125 21.390625 47.125 36.375 \nQ 47.125 51.421875 43.28125 58.90625 \nQ 39.453125 66.40625 31.78125 66.40625 \nz\nM 31.78125 74.21875 \nQ 44.046875 74.21875 50.515625 64.515625 \nQ 56.984375 54.828125 56.984375 36.375 \nQ 56.984375 17.96875 50.515625 8.265625 \nQ 44.046875 -1.421875 31.78125 -1.421875 \nQ 19.53125 -1.421875 13.0625 8.265625 \nQ 6.59375 17.96875 6.59375 36.375 \nQ 6.59375 54.828125 13.0625 64.515625 \nQ 19.53125 74.21875 31.78125 74.21875 \nz\n\" id=\"DejaVuSans-48\"/>\n       </defs>\n       <use xlink:href=\"#DejaVuSans-50\"/>\n       <use x=\"63.623047\" xlink:href=\"#DejaVuSans-48\"/>\n      </g>\n     </g>\n    </g>\n    <g id=\"xtick_5\">\n     <g id=\"line2d_5\">\n      <g>\n       <use style=\"stroke:#000000;stroke-width:0.8;\" x=\"338.070705\" xlink:href=\"#m8017c4f826\" y=\"224.64\"/>\n      </g>\n     </g>\n     <g id=\"text_5\">\n      <!-- 22 -->\n      <g transform=\"translate(331.708205 239.238438)scale(0.1 -0.1)\">\n       <use xlink:href=\"#DejaVuSans-50\"/>\n       <use x=\"63.623047\" xlink:href=\"#DejaVuSans-50\"/>\n      </g>\n     </g>\n    </g>\n   </g>\n   <g id=\"matplotlib.axis_2\">\n    <g id=\"ytick_1\">\n     <g id=\"line2d_6\">\n      <defs>\n       <path d=\"M 0 0 \nL -3.5 0 \n\" id=\"m8fd15d7005\" style=\"stroke:#000000;stroke-width:0.8;\"/>\n      </defs>\n      <g>\n       <use style=\"stroke:#000000;stroke-width:0.8;\" x=\"38.482813\" xlink:href=\"#m8fd15d7005\" y=\"223.905444\"/>\n      </g>\n     </g>\n     <g id=\"text_6\">\n      <!-- −6.1 -->\n      <g transform=\"translate(7.2 227.704663)scale(0.1 -0.1)\">\n       <defs>\n        <path d=\"M 10.59375 35.5 \nL 73.1875 35.5 \nL 73.1875 27.203125 \nL 10.59375 27.203125 \nz\n\" id=\"DejaVuSans-8722\"/>\n        <path d=\"M 10.6875 12.40625 \nL 21 12.40625 \nL 21 0 \nL 10.6875 0 \nz\n\" id=\"DejaVuSans-46\"/>\n       </defs>\n       <use xlink:href=\"#DejaVuSans-8722\"/>\n       <use x=\"83.789062\" xlink:href=\"#DejaVuSans-54\"/>\n       <use x=\"147.412109\" xlink:href=\"#DejaVuSans-46\"/>\n       <use x=\"179.199219\" xlink:href=\"#DejaVuSans-49\"/>\n      </g>\n     </g>\n    </g>\n    <g id=\"ytick_2\">\n     <g id=\"line2d_7\">\n      <g>\n       <use style=\"stroke:#000000;stroke-width:0.8;\" x=\"38.482813\" xlink:href=\"#m8fd15d7005\" y=\"192.340136\"/>\n      </g>\n     </g>\n     <g id=\"text_7\">\n      <!-- −6.0 -->\n      <g transform=\"translate(7.2 196.139355)scale(0.1 -0.1)\">\n       <use xlink:href=\"#DejaVuSans-8722\"/>\n       <use x=\"83.789062\" xlink:href=\"#DejaVuSans-54\"/>\n       <use x=\"147.412109\" xlink:href=\"#DejaVuSans-46\"/>\n       <use x=\"179.199219\" xlink:href=\"#DejaVuSans-48\"/>\n      </g>\n     </g>\n    </g>\n    <g id=\"ytick_3\">\n     <g id=\"line2d_8\">\n      <g>\n       <use style=\"stroke:#000000;stroke-width:0.8;\" x=\"38.482813\" xlink:href=\"#m8fd15d7005\" y=\"160.774828\"/>\n      </g>\n     </g>\n     <g id=\"text_8\">\n      <!-- −5.9 -->\n      <g transform=\"translate(7.2 164.574046)scale(0.1 -0.1)\">\n       <defs>\n        <path d=\"M 10.796875 72.90625 \nL 49.515625 72.90625 \nL 49.515625 64.59375 \nL 19.828125 64.59375 \nL 19.828125 46.734375 \nQ 21.96875 47.46875 24.109375 47.828125 \nQ 26.265625 48.1875 28.421875 48.1875 \nQ 40.625 48.1875 47.75 41.5 \nQ 54.890625 34.8125 54.890625 23.390625 \nQ 54.890625 11.625 47.5625 5.09375 \nQ 40.234375 -1.421875 26.90625 -1.421875 \nQ 22.3125 -1.421875 17.546875 -0.640625 \nQ 12.796875 0.140625 7.71875 1.703125 \nL 7.71875 11.625 \nQ 12.109375 9.234375 16.796875 8.0625 \nQ 21.484375 6.890625 26.703125 6.890625 \nQ 35.15625 6.890625 40.078125 11.328125 \nQ 45.015625 15.765625 45.015625 23.390625 \nQ 45.015625 31 40.078125 35.4375 \nQ 35.15625 39.890625 26.703125 39.890625 \nQ 22.75 39.890625 18.8125 39.015625 \nQ 14.890625 38.140625 10.796875 36.28125 \nz\n\" id=\"DejaVuSans-53\"/>\n        <path d=\"M 10.984375 1.515625 \nL 10.984375 10.5 \nQ 14.703125 8.734375 18.5 7.8125 \nQ 22.3125 6.890625 25.984375 6.890625 \nQ 35.75 6.890625 40.890625 13.453125 \nQ 46.046875 20.015625 46.78125 33.40625 \nQ 43.953125 29.203125 39.59375 26.953125 \nQ 35.25 24.703125 29.984375 24.703125 \nQ 19.046875 24.703125 12.671875 31.3125 \nQ 6.296875 37.9375 6.296875 49.421875 \nQ 6.296875 60.640625 12.9375 67.421875 \nQ 19.578125 74.21875 30.609375 74.21875 \nQ 43.265625 74.21875 49.921875 64.515625 \nQ 56.59375 54.828125 56.59375 36.375 \nQ 56.59375 19.140625 48.40625 8.859375 \nQ 40.234375 -1.421875 26.421875 -1.421875 \nQ 22.703125 -1.421875 18.890625 -0.6875 \nQ 15.09375 0.046875 10.984375 1.515625 \nz\nM 30.609375 32.421875 \nQ 37.25 32.421875 41.125 36.953125 \nQ 45.015625 41.5 45.015625 49.421875 \nQ 45.015625 57.28125 41.125 61.84375 \nQ 37.25 66.40625 30.609375 66.40625 \nQ 23.96875 66.40625 20.09375 61.84375 \nQ 16.21875 57.28125 16.21875 49.421875 \nQ 16.21875 41.5 20.09375 36.953125 \nQ 23.96875 32.421875 30.609375 32.421875 \nz\n\" id=\"DejaVuSans-57\"/>\n       </defs>\n       <use xlink:href=\"#DejaVuSans-8722\"/>\n       <use x=\"83.789062\" xlink:href=\"#DejaVuSans-53\"/>\n       <use x=\"147.412109\" xlink:href=\"#DejaVuSans-46\"/>\n       <use x=\"179.199219\" xlink:href=\"#DejaVuSans-57\"/>\n      </g>\n     </g>\n    </g>\n    <g id=\"ytick_4\">\n     <g id=\"line2d_9\">\n      <g>\n       <use style=\"stroke:#000000;stroke-width:0.8;\" x=\"38.482813\" xlink:href=\"#m8fd15d7005\" y=\"129.209519\"/>\n      </g>\n     </g>\n     <g id=\"text_9\">\n      <!-- −5.8 -->\n      <g transform=\"translate(7.2 133.008738)scale(0.1 -0.1)\">\n       <use xlink:href=\"#DejaVuSans-8722\"/>\n       <use x=\"83.789062\" xlink:href=\"#DejaVuSans-53\"/>\n       <use x=\"147.412109\" xlink:href=\"#DejaVuSans-46\"/>\n       <use x=\"179.199219\" xlink:href=\"#DejaVuSans-56\"/>\n      </g>\n     </g>\n    </g>\n    <g id=\"ytick_5\">\n     <g id=\"line2d_10\">\n      <g>\n       <use style=\"stroke:#000000;stroke-width:0.8;\" x=\"38.482813\" xlink:href=\"#m8fd15d7005\" y=\"97.644211\"/>\n      </g>\n     </g>\n     <g id=\"text_10\">\n      <!-- −5.7 -->\n      <g transform=\"translate(7.2 101.44343)scale(0.1 -0.1)\">\n       <defs>\n        <path d=\"M 8.203125 72.90625 \nL 55.078125 72.90625 \nL 55.078125 68.703125 \nL 28.609375 0 \nL 18.3125 0 \nL 43.21875 64.59375 \nL 8.203125 64.59375 \nz\n\" id=\"DejaVuSans-55\"/>\n       </defs>\n       <use xlink:href=\"#DejaVuSans-8722\"/>\n       <use x=\"83.789062\" xlink:href=\"#DejaVuSans-53\"/>\n       <use x=\"147.412109\" xlink:href=\"#DejaVuSans-46\"/>\n       <use x=\"179.199219\" xlink:href=\"#DejaVuSans-55\"/>\n      </g>\n     </g>\n    </g>\n    <g id=\"ytick_6\">\n     <g id=\"line2d_11\">\n      <g>\n       <use style=\"stroke:#000000;stroke-width:0.8;\" x=\"38.482813\" xlink:href=\"#m8fd15d7005\" y=\"66.078902\"/>\n      </g>\n     </g>\n     <g id=\"text_11\">\n      <!-- −5.6 -->\n      <g transform=\"translate(7.2 69.878121)scale(0.1 -0.1)\">\n       <use xlink:href=\"#DejaVuSans-8722\"/>\n       <use x=\"83.789062\" xlink:href=\"#DejaVuSans-53\"/>\n       <use x=\"147.412109\" xlink:href=\"#DejaVuSans-46\"/>\n       <use x=\"179.199219\" xlink:href=\"#DejaVuSans-54\"/>\n      </g>\n     </g>\n    </g>\n    <g id=\"ytick_7\">\n     <g id=\"line2d_12\">\n      <g>\n       <use style=\"stroke:#000000;stroke-width:0.8;\" x=\"38.482813\" xlink:href=\"#m8fd15d7005\" y=\"34.513594\"/>\n      </g>\n     </g>\n     <g id=\"text_12\">\n      <!-- −5.5 -->\n      <g transform=\"translate(7.2 38.312813)scale(0.1 -0.1)\">\n       <use xlink:href=\"#DejaVuSans-8722\"/>\n       <use x=\"83.789062\" xlink:href=\"#DejaVuSans-53\"/>\n       <use x=\"147.412109\" xlink:href=\"#DejaVuSans-46\"/>\n       <use x=\"179.199219\" xlink:href=\"#DejaVuSans-53\"/>\n      </g>\n     </g>\n    </g>\n   </g>\n   <g id=\"patch_3\">\n    <path d=\"M 38.482813 224.64 \nL 38.482813 7.2 \n\" style=\"fill:none;stroke:#000000;stroke-linecap:square;stroke-linejoin:miter;stroke-width:0.8;\"/>\n   </g>\n   <g id=\"patch_4\">\n    <path d=\"M 373.282813 224.64 \nL 373.282813 7.2 \n\" style=\"fill:none;stroke:#000000;stroke-linecap:square;stroke-linejoin:miter;stroke-width:0.8;\"/>\n   </g>\n   <g id=\"patch_5\">\n    <path d=\"M 38.482813 224.64 \nL 373.282813 224.64 \n\" style=\"fill:none;stroke:#000000;stroke-linecap:square;stroke-linejoin:miter;stroke-width:0.8;\"/>\n   </g>\n   <g id=\"patch_6\">\n    <path d=\"M 38.482813 7.2 \nL 373.282813 7.2 \n\" style=\"fill:none;stroke:#000000;stroke-linecap:square;stroke-linejoin:miter;stroke-width:0.8;\"/>\n   </g>\n  </g>\n </g>\n <defs>\n  <clipPath id=\"pebb604a71c\">\n   <rect height=\"217.44\" width=\"334.8\" x=\"38.482813\" y=\"7.2\"/>\n  </clipPath>\n </defs>\n</svg>\n",
      "image/png": "[encoded data removed]"
     },
     "metadata": {
      "needs_background": "light"
     }
    }
   ],
   "source": [
    "EVb = [ (at.get_volume()/len(at), at.info[\"energy\"]/len(at)) for at in al if at.info[\"config_type\"] == \"FLD_bcc\"]\n",
    "EVh = [ (at.get_volume()/len(at), at.info[\"energy\"]/len(at)) for at in al if at.info[\"config_type\"] == \"FLD_hcp\"]\n",
    "\n",
    "plt.scatter(*zip(*EVb))\n",
    "plt.scatter(*zip(*EVh))\n",
    "\n",
    "plt.scatter(V_Tb, E_Tb)\n",
    "plt.scatter(V_Th, E_Th)"
   ]
  },
  {
   "cell_type": "code",
   "execution_count": 143,
   "metadata": {},
   "outputs": [],
   "source": [
    "at = read(\"../ev_ph/NRLTB_hcp.xyz\")"
   ]
  },
  {
   "cell_type": "code",
   "execution_count": 123,
   "metadata": {},
   "outputs": [
    {
     "output_type": "error",
     "ename": "KeyError",
     "evalue": "'forces'",
     "traceback": [
      "\u001b[0;31m---------------------------------------------------------------------------\u001b[0m",
      "\u001b[0;31mKeyError\u001b[0m                                  Traceback (most recent call last)",
      "\u001b[0;32m<ipython-input-123-836a50ba703b>\u001b[0m in \u001b[0;36m<module>\u001b[0;34m\u001b[0m\n\u001b[0;32m----> 1\u001b[0;31m \u001b[0;32mdel\u001b[0m \u001b[0mat\u001b[0m\u001b[0;34m.\u001b[0m\u001b[0marrays\u001b[0m\u001b[0;34m[\u001b[0m\u001b[0;34m\"forces\"\u001b[0m\u001b[0;34m]\u001b[0m\u001b[0;34m\u001b[0m\u001b[0;34m\u001b[0m\u001b[0m\n\u001b[0m\u001b[1;32m      2\u001b[0m \u001b[0;32mdel\u001b[0m \u001b[0mat\u001b[0m\u001b[0;34m.\u001b[0m\u001b[0minfo\u001b[0m\u001b[0;34m[\u001b[0m\u001b[0;34m\"config_type\"\u001b[0m\u001b[0;34m]\u001b[0m\u001b[0;34m\u001b[0m\u001b[0;34m\u001b[0m\u001b[0m\n\u001b[1;32m      3\u001b[0m \u001b[0;32mdel\u001b[0m \u001b[0mat\u001b[0m\u001b[0;34m.\u001b[0m\u001b[0minfo\u001b[0m\u001b[0;34m[\u001b[0m\u001b[0;34m\"energy\"\u001b[0m\u001b[0;34m]\u001b[0m\u001b[0;34m\u001b[0m\u001b[0;34m\u001b[0m\u001b[0m\n\u001b[1;32m      4\u001b[0m \u001b[0;32mdel\u001b[0m \u001b[0mat\u001b[0m\u001b[0;34m.\u001b[0m\u001b[0minfo\u001b[0m\u001b[0;34m[\u001b[0m\u001b[0;34m\"n_minim_iter\"\u001b[0m\u001b[0;34m]\u001b[0m\u001b[0;34m\u001b[0m\u001b[0;34m\u001b[0m\u001b[0m\n\u001b[1;32m      5\u001b[0m \u001b[0;32mdel\u001b[0m \u001b[0mat\u001b[0m\u001b[0;34m.\u001b[0m\u001b[0minfo\u001b[0m\u001b[0;34m[\u001b[0m\u001b[0;34m\"free_energy\"\u001b[0m\u001b[0;34m]\u001b[0m\u001b[0;34m\u001b[0m\u001b[0;34m\u001b[0m\u001b[0m\n",
      "\u001b[0;31mKeyError\u001b[0m: 'forces'"
     ]
    }
   ],
   "source": [
    "del at.arrays[\"forces\"]\n"
   ]
  },
  {
   "cell_type": "code",
   "execution_count": 127,
   "metadata": {},
   "outputs": [],
   "source": [
    "del at.info[\"config_type\"]\n",
    "del at.info[\"energy\"]\n",
    "del at.info[\"n_minim_iter\"]\n",
    "del at.info[\"free_energy\"]\n",
    "del at.info[\"stress\"]"
   ]
  },
  {
   "cell_type": "code",
   "execution_count": 128,
   "metadata": {},
   "outputs": [],
   "source": [
    "write(\"../ev_ph/NRLTB_bcc_c.xyz\", at)"
   ]
  },
  {
   "cell_type": "code",
   "execution_count": 144,
   "metadata": {},
   "outputs": [],
   "source": [
    "at2 = ase.Atoms(\"2Ti\", positions = at.get_positions(), cell=at.get_cell(), pbc=[True,True,True])"
   ]
  },
  {
   "cell_type": "code",
   "execution_count": 145,
   "metadata": {},
   "outputs": [],
   "source": [
    "write(\"../ev_ph/NRLTB_hcp_c.xyz\", at2)"
   ]
  },
  {
   "cell_type": "code",
   "execution_count": null,
   "metadata": {},
   "outputs": [],
   "source": []
  }
 ]
}