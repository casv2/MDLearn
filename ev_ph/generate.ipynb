{
 "metadata": {
  "language_info": {
   "codemirror_mode": {
    "name": "ipython",
    "version": 3
   },
   "file_extension": ".py",
   "mimetype": "text/x-python",
   "name": "python",
   "nbconvert_exporter": "python",
   "pygments_lexer": "ipython3",
   "version": "3.8.2-final"
  },
  "orig_nbformat": 2,
  "kernelspec": {
   "name": "python3",
   "display_name": "Python 3",
   "language": "python"
  }
 },
 "nbformat": 4,
 "nbformat_minor": 2,
 "cells": [
  {
   "cell_type": "code",
   "execution_count": 1,
   "metadata": {},
   "outputs": [],
   "source": [
    "from ase.io import read, write\n",
    "import ase\n",
    "from phonopy import Phonopy\n",
    "from phonopy.structure.atoms import PhonopyAtoms\n",
    "import numpy as np\n",
    "import phonopy"
   ]
  },
  {
   "cell_type": "code",
   "execution_count": 95,
   "metadata": {},
   "outputs": [],
   "source": [
    "def get_phonon_configs(calc, at, disps, scell, config_type):\n",
    "\n",
    "    cell = PhonopyAtoms(symbols=at.get_chemical_symbols(),\n",
    "                    cell=at.get_cell(),\n",
    "                    positions=at.get_positions())\n",
    "\n",
    "    phonon = Phonopy(cell, np.eye(3)*scell)\n",
    "\n",
    "    al = []\n",
    "\n",
    "    for disp in disps:\n",
    "        phonon.generate_displacements(distance=disp)\n",
    "        supercells = phonon.get_supercells_with_displacements()\n",
    "\n",
    "        for (i,scell) in enumerate(supercells):\n",
    "            at = ase.Atoms(symbols=scell.get_chemical_symbols(),\n",
    "                      scaled_positions=scell.get_scaled_positions(),\n",
    "                      cell=scell.get_cell(),\n",
    "                      pbc=True)\n",
    "\n",
    "            at.set_calculator(calc)\n",
    "\n",
    "            energy = at.get_potential_energy()#force_consistent=True)\n",
    "            forces = at.get_forces()\n",
    "            #stress = at.get_stress(voigt=False)\n",
    "\n",
    "            at.arrays[\"force\"] = forces\n",
    "            at.info[\"energy\"] = energy\n",
    "            at.info[\"config_type\"] = \"PH_\" + config_type\n",
    "            #write(\"PH_{}_{}_scell_{}.xyz\".format(config_type, i, disp), at)\n",
    "            al.append(at)\n",
    "\n",
    "    return al"
   ]
  },
  {
   "cell_type": "code",
   "execution_count": 88,
   "metadata": {},
   "outputs": [],
   "source": [
    "def get_FLD_configs(calc, in_at, config_type, Vs=np.linspace(0.94, 1.06, 10), Ds=np.linspace(-0.24, 0.24, 10)):\n",
    "    import copy\n",
    "\n",
    "    al = []\n",
    "    for i in Vs:\n",
    "        for j in Ds:\n",
    "            at = copy.deepcopy(in_at)\n",
    "            k, l = np.random.randint(0,3), np.random.randint(0,3)\n",
    "            at.set_cell(at.cell * i, scale_atoms=True)\n",
    "            at.positions = at.positions + np.random.normal(0, 0.2, (len(at),3))\n",
    "            at.cell[k][l] += (j + np.random.normal(0, 0.2))\n",
    "            at.set_calculator(calc)\n",
    "            at.info[\"energy\"] = at.get_potential_energy()\n",
    "            at.arrays[\"force\"] = at.get_forces()\n",
    "            #at.info[\"virial\"] = -1.0 * at.get_volume() * at.get_stress(voigt=False)\n",
    "            at.info[\"config_type\"] = config_type\n",
    "            #write(\"hcp_FLD_{}_{}_{}_{}.xyz\".format(i,j,k,l), at)\n",
    "            al.append(at)\n",
    "    \n",
    "    return al"
   ]
  },
  {
   "cell_type": "code",
   "execution_count": 89,
   "metadata": {},
   "outputs": [],
   "source": [
    "from ase.calculators.eam import EAM\n",
    "\n",
    "calc = EAM(potential='Ti1.eam.fs')"
   ]
  },
  {
   "cell_type": "code",
   "execution_count": 2,
   "metadata": {},
   "outputs": [
    {
     "output_type": "error",
     "ename": "NameError",
     "evalue": "name 'get_FLD_configs' is not defined",
     "traceback": [
      "\u001b[0;31m---------------------------------------------------------------------------\u001b[0m",
      "\u001b[0;31mNameError\u001b[0m                                 Traceback (most recent call last)",
      "\u001b[0;32m<ipython-input-2-a9d4f84f8a6f>\u001b[0m in \u001b[0;36m<module>\u001b[0;34m\u001b[0m\n\u001b[1;32m      4\u001b[0m \u001b[0mat\u001b[0m \u001b[0;34m=\u001b[0m \u001b[0mBodyCenteredCubic\u001b[0m\u001b[0;34m(\u001b[0m\u001b[0;34m\"Ti\"\u001b[0m\u001b[0;34m,\u001b[0m \u001b[0mlatticeconstant\u001b[0m\u001b[0;34m=\u001b[0m\u001b[0;36m3.32\u001b[0m\u001b[0;34m)\u001b[0m\u001b[0;34m\u001b[0m\u001b[0;34m\u001b[0m\u001b[0m\n\u001b[1;32m      5\u001b[0m \u001b[0;34m\u001b[0m\u001b[0m\n\u001b[0;32m----> 6\u001b[0;31m \u001b[0mal_bcc\u001b[0m \u001b[0;34m=\u001b[0m \u001b[0mget_FLD_configs\u001b[0m\u001b[0;34m(\u001b[0m\u001b[0mcalc\u001b[0m\u001b[0;34m,\u001b[0m \u001b[0mat\u001b[0m\u001b[0;34m,\u001b[0m \u001b[0;34m\"bcc\"\u001b[0m\u001b[0;34m)\u001b[0m\u001b[0;34m\u001b[0m\u001b[0;34m\u001b[0m\u001b[0m\n\u001b[0m",
      "\u001b[0;31mNameError\u001b[0m: name 'get_FLD_configs' is not defined"
     ]
    }
   ],
   "source": [
    "from ase.lattice.cubic import BodyCenteredCubic\n",
    "from ase.lattice.hexagonal import HexagonalClosedPacked\n",
    "\n",
    "at = BodyCenteredCubic(\"Ti\", latticeconstant=3.32)\n",
    "\n",
    "al_bcc = get_FLD_configs(calc, at, \"bcc\")"
   ]
  },
  {
   "cell_type": "code",
   "execution_count": 83,
   "metadata": {},
   "outputs": [],
   "source": [
    "E = [at.get_potential_energy()/len(at) for at in al_bcc]\n",
    "V = [at.get_volume()/len(at) for at in al_bcc]"
   ]
  },
  {
   "cell_type": "code",
   "execution_count": 84,
   "metadata": {},
   "outputs": [],
   "source": [
    "import matplotlib.pyplot as plt"
   ]
  },
  {
   "source": [
    "plt.scatter(V,E)"
   ],
   "cell_type": "markdown",
   "metadata": {}
  },
  {
   "cell_type": "code",
   "execution_count": 97,
   "metadata": {},
   "outputs": [],
   "source": [
    "PH_config = get_phonon_configs(calc, at, [0.02], 3, \"bcc\")"
   ]
  },
  {
   "cell_type": "code",
   "execution_count": 105,
   "metadata": {},
   "outputs": [
    {
     "output_type": "execute_result",
     "data": {
      "text/plain": [
       "{'numbers': array([22, 22, 22, 22, 22, 22, 22, 22, 22, 22, 22, 22, 22, 22, 22, 22, 22,\n",
       "        22, 22, 22, 22, 22, 22, 22, 22, 22, 22, 22, 22, 22, 22, 22, 22, 22,\n",
       "        22, 22, 22, 22, 22, 22, 22, 22, 22, 22, 22, 22, 22, 22, 22, 22, 22,\n",
       "        22, 22, 22]),\n",
       " 'positions': array([[0.02, 0.  , 0.  ],\n",
       "        [3.32, 0.  , 0.  ],\n",
       "        [6.64, 0.  , 0.  ],\n",
       "        [0.  , 3.32, 0.  ],\n",
       "        [3.32, 3.32, 0.  ],\n",
       "        [6.64, 3.32, 0.  ],\n",
       "        [0.  , 6.64, 0.  ],\n",
       "        [3.32, 6.64, 0.  ],\n",
       "        [6.64, 6.64, 0.  ],\n",
       "        [0.  , 0.  , 3.32],\n",
       "        [3.32, 0.  , 3.32],\n",
       "        [6.64, 0.  , 3.32],\n",
       "        [0.  , 3.32, 3.32],\n",
       "        [3.32, 3.32, 3.32],\n",
       "        [6.64, 3.32, 3.32],\n",
       "        [0.  , 6.64, 3.32],\n",
       "        [3.32, 6.64, 3.32],\n",
       "        [6.64, 6.64, 3.32],\n",
       "        [0.  , 0.  , 6.64],\n",
       "        [3.32, 0.  , 6.64],\n",
       "        [6.64, 0.  , 6.64],\n",
       "        [0.  , 3.32, 6.64],\n",
       "        [3.32, 3.32, 6.64],\n",
       "        [6.64, 3.32, 6.64],\n",
       "        [0.  , 6.64, 6.64],\n",
       "        [3.32, 6.64, 6.64],\n",
       "        [6.64, 6.64, 6.64],\n",
       "        [1.66, 1.66, 1.66],\n",
       "        [4.98, 1.66, 1.66],\n",
       "        [8.3 , 1.66, 1.66],\n",
       "        [1.66, 4.98, 1.66],\n",
       "        [4.98, 4.98, 1.66],\n",
       "        [8.3 , 4.98, 1.66],\n",
       "        [1.66, 8.3 , 1.66],\n",
       "        [4.98, 8.3 , 1.66],\n",
       "        [8.3 , 8.3 , 1.66],\n",
       "        [1.66, 1.66, 4.98],\n",
       "        [4.98, 1.66, 4.98],\n",
       "        [8.3 , 1.66, 4.98],\n",
       "        [1.66, 4.98, 4.98],\n",
       "        [4.98, 4.98, 4.98],\n",
       "        [8.3 , 4.98, 4.98],\n",
       "        [1.66, 8.3 , 4.98],\n",
       "        [4.98, 8.3 , 4.98],\n",
       "        [8.3 , 8.3 , 4.98],\n",
       "        [1.66, 1.66, 8.3 ],\n",
       "        [4.98, 1.66, 8.3 ],\n",
       "        [8.3 , 1.66, 8.3 ],\n",
       "        [1.66, 4.98, 8.3 ],\n",
       "        [4.98, 4.98, 8.3 ],\n",
       "        [8.3 , 4.98, 8.3 ],\n",
       "        [1.66, 8.3 , 8.3 ],\n",
       "        [4.98, 8.3 , 8.3 ],\n",
       "        [8.3 , 8.3 , 8.3 ]]),\n",
       " 'force': array([[-5.41743861e-02, -2.52664399e-17,  5.02089497e-16],\n",
       "        [-1.19110169e-04,  1.53282653e-16,  9.77715014e-17],\n",
       "        [-2.77312061e-03, -1.01687073e-16,  9.26019559e-17],\n",
       "        [ 4.79297563e-03, -1.33463126e-07,  3.82266151e-16],\n",
       "        [-7.41745695e-03, -8.44298861e-03,  1.03452218e-15],\n",
       "        [-7.37011048e-03,  8.30009044e-03,  8.81866513e-16],\n",
       "        [ 4.79297563e-03,  1.33463128e-07,  2.16553367e-16],\n",
       "        [-7.41745695e-03,  8.44298861e-03,  9.37377664e-16],\n",
       "        [-7.37011048e-03, -8.30009044e-03,  4.91379069e-16],\n",
       "        [ 4.79297563e-03,  2.71243849e-16, -1.33463126e-07],\n",
       "        [-7.41745695e-03,  7.15333059e-16, -8.44298861e-03],\n",
       "        [-7.37011048e-03,  6.45944120e-16,  8.30009044e-03],\n",
       "        [ 1.57876724e-03,  2.43358561e-05,  2.43358561e-05],\n",
       "        [ 9.05945458e-04,  9.38391767e-04,  9.38391767e-04],\n",
       "        [ 8.64167535e-04, -8.79891557e-04, -8.79891557e-04],\n",
       "        [ 1.57876724e-03, -2.43358561e-05,  2.43358561e-05],\n",
       "        [ 9.05945458e-04, -9.38391767e-04,  9.38391767e-04],\n",
       "        [ 8.64167535e-04,  8.79891557e-04, -8.79891557e-04],\n",
       "        [ 4.79297563e-03,  2.72064518e-16,  1.33463128e-07],\n",
       "        [-7.41745695e-03,  8.26355361e-16,  8.44298861e-03],\n",
       "        [-7.37011048e-03,  4.35867917e-16, -8.30009044e-03],\n",
       "        [ 1.57876724e-03,  2.43358561e-05, -2.43358561e-05],\n",
       "        [ 9.05945458e-04,  9.38391767e-04, -9.38391767e-04],\n",
       "        [ 8.64167535e-04, -8.79891557e-04,  8.79891557e-04],\n",
       "        [ 1.57876724e-03, -2.43358561e-05, -2.43358561e-05],\n",
       "        [ 9.05945458e-04, -9.38391767e-04, -9.38391767e-04],\n",
       "        [ 8.64167535e-04,  8.79891557e-04,  8.79891557e-04],\n",
       "        [ 9.56143328e-03,  8.78724982e-03,  8.78724982e-03],\n",
       "        [ 1.95299276e-03, -1.41342055e-04, -1.41342055e-04],\n",
       "        [ 9.31979491e-03, -8.35553935e-03, -8.35553935e-03],\n",
       "        [ 3.87952185e-05, -9.08615298e-16,  4.55355747e-04],\n",
       "        [-3.86974252e-05, -6.62284564e-16, -9.66427222e-07],\n",
       "        [ 7.80470398e-05, -1.64677379e-15, -4.84862762e-04],\n",
       "        [ 9.56143328e-03, -8.78724982e-03,  8.78724982e-03],\n",
       "        [ 1.95299276e-03,  1.41342055e-04, -1.41342055e-04],\n",
       "        [ 9.31979491e-03,  8.35553935e-03, -8.35553935e-03],\n",
       "        [ 3.87952185e-05,  4.55355747e-04, -8.39226359e-16],\n",
       "        [-3.86974252e-05, -9.66427222e-07, -1.00922926e-15],\n",
       "        [ 7.80470398e-05, -4.84862762e-04, -1.85494061e-15],\n",
       "        [ 5.82536075e-08, -1.10116960e-15, -1.10637377e-15],\n",
       "        [-6.97358837e-16, -5.37764278e-16, -1.11369247e-15],\n",
       "        [-5.82536087e-08, -4.19803081e-16, -5.20417043e-16],\n",
       "        [ 3.87952185e-05, -4.55355747e-04, -1.68840715e-15],\n",
       "        [-3.86974252e-05,  9.66427221e-07, -5.89805982e-16],\n",
       "        [ 7.80470398e-05,  4.84862762e-04, -6.97358837e-16],\n",
       "        [ 9.56143328e-03,  8.78724982e-03, -8.78724982e-03],\n",
       "        [ 1.95299276e-03, -1.41342055e-04,  1.41342055e-04],\n",
       "        [ 9.31979491e-03, -8.35553935e-03,  8.35553935e-03],\n",
       "        [ 3.87952185e-05, -1.77167388e-15, -4.55355747e-04],\n",
       "        [-3.86974252e-05, -5.34294831e-16,  9.66427221e-07],\n",
       "        [ 7.80470398e-05, -9.19403442e-16,  4.84862762e-04],\n",
       "        [ 9.56143328e-03, -8.78724982e-03, -8.78724982e-03],\n",
       "        [ 1.95299276e-03,  1.41342055e-04,  1.41342055e-04],\n",
       "        [ 9.31979491e-03,  8.35553935e-03,  8.35553935e-03]])}"
      ]
     },
     "metadata": {},
     "execution_count": 105
    }
   ],
   "source": [
    "PH_config[0].arrays"
   ]
  },
  {
   "cell_type": "code",
   "execution_count": 14,
   "metadata": {},
   "outputs": [],
   "source": [
    "at = BodyCenteredCubic(\"Ti\", latticeconstant=3.32) * (3,3,3)\n",
    "at.info[\"config_type\"] = \"bcc\"\n",
    "write(\"./bcc.xyz\", at)"
   ]
  },
  {
   "cell_type": "code",
   "execution_count": 5,
   "metadata": {},
   "outputs": [
    {
     "output_type": "execute_result",
     "data": {
      "text/plain": [
       "Lattice(symbols='Ti54', pbc=True, cell=[9.959999999999999, 9.959999999999999, 9.959999999999999])"
      ]
     },
     "metadata": {},
     "execution_count": 5
    }
   ],
   "source": [
    "big_at."
   ]
  },
  {
   "cell_type": "code",
   "execution_count": null,
   "metadata": {},
   "outputs": [],
   "source": []
  }
 ]
}